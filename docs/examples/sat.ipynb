{
 "cells": [
  {
   "cell_type": "code",
   "execution_count": 1,
   "metadata": {},
   "outputs": [],
   "source": [
    "!test -f hirs.bufr || wget https://github.com/ecmwf/pdbufr/raw/master/tests/sample-data/M02-HIRS-HIRxxx1B-NA-1.0-20181122114854.000000000Z-20181122132602-1304602.bufr --output-document=hirs.bufr"
   ]
  },
  {
   "cell_type": "markdown",
   "metadata": {},
   "source": [
    "# Satellite data"
   ]
  },
  {
   "cell_type": "code",
   "execution_count": 2,
   "metadata": {},
   "outputs": [],
   "source": [
    "import pdbufr"
   ]
  },
  {
   "cell_type": "markdown",
   "metadata": {},
   "source": [
    "The input BUFR data contains HIRS radiometer satellite observations, multiple messages with compressed subsets."
   ]
  },
  {
   "cell_type": "markdown",
   "metadata": {},
   "source": [
    "**Example 1**\n",
    "\n",
    "Extracting all brightness temperature pixels from the first message for the AMSU-B sensor and channel 5:"
   ]
  },
  {
   "cell_type": "code",
   "execution_count": 3,
   "metadata": {},
   "outputs": [
    {
     "data": {
      "text/html": [
       "<div>\n",
       "<style scoped>\n",
       "    .dataframe tbody tr th:only-of-type {\n",
       "        vertical-align: middle;\n",
       "    }\n",
       "\n",
       "    .dataframe tbody tr th {\n",
       "        vertical-align: top;\n",
       "    }\n",
       "\n",
       "    .dataframe thead th {\n",
       "        text-align: right;\n",
       "    }\n",
       "</style>\n",
       "<table border=\"1\" class=\"dataframe\">\n",
       "  <thead>\n",
       "    <tr style=\"text-align: right;\">\n",
       "      <th></th>\n",
       "      <th>latitude</th>\n",
       "      <th>longitude</th>\n",
       "      <th>brightnessTemperature</th>\n",
       "      <th>data_datetime</th>\n",
       "    </tr>\n",
       "  </thead>\n",
       "  <tbody>\n",
       "    <tr>\n",
       "      <th>0</th>\n",
       "      <td>53.3542</td>\n",
       "      <td>-9.2014</td>\n",
       "      <td>228.05</td>\n",
       "      <td>2018-11-22 11:48:54.396</td>\n",
       "    </tr>\n",
       "    <tr>\n",
       "      <th>1</th>\n",
       "      <td>53.7226</td>\n",
       "      <td>-10.2683</td>\n",
       "      <td>229.25</td>\n",
       "      <td>2018-11-22 11:48:54.396</td>\n",
       "    </tr>\n",
       "    <tr>\n",
       "      <th>2</th>\n",
       "      <td>54.0425</td>\n",
       "      <td>-11.2363</td>\n",
       "      <td>229.04</td>\n",
       "      <td>2018-11-22 11:48:54.396</td>\n",
       "    </tr>\n",
       "    <tr>\n",
       "      <th>3</th>\n",
       "      <td>54.3240</td>\n",
       "      <td>-12.1233</td>\n",
       "      <td>224.29</td>\n",
       "      <td>2018-11-22 11:48:54.396</td>\n",
       "    </tr>\n",
       "    <tr>\n",
       "      <th>4</th>\n",
       "      <td>54.5743</td>\n",
       "      <td>-12.9427</td>\n",
       "      <td>227.36</td>\n",
       "      <td>2018-11-22 11:48:54.396</td>\n",
       "    </tr>\n",
       "    <tr>\n",
       "      <th>...</th>\n",
       "      <td>...</td>\n",
       "      <td>...</td>\n",
       "      <td>...</td>\n",
       "      <td>...</td>\n",
       "    </tr>\n",
       "    <tr>\n",
       "      <th>1003</th>\n",
       "      <td>52.3751</td>\n",
       "      <td>-39.5162</td>\n",
       "      <td>232.14</td>\n",
       "      <td>2018-11-22 11:50:43.195</td>\n",
       "    </tr>\n",
       "    <tr>\n",
       "      <th>1004</th>\n",
       "      <td>52.4339</td>\n",
       "      <td>-40.3908</td>\n",
       "      <td>231.69</td>\n",
       "      <td>2018-11-22 11:50:43.195</td>\n",
       "    </tr>\n",
       "    <tr>\n",
       "      <th>1005</th>\n",
       "      <td>52.4916</td>\n",
       "      <td>-41.3527</td>\n",
       "      <td>232.04</td>\n",
       "      <td>2018-11-22 11:50:43.195</td>\n",
       "    </tr>\n",
       "    <tr>\n",
       "      <th>1006</th>\n",
       "      <td>52.5470</td>\n",
       "      <td>-42.4209</td>\n",
       "      <td>230.93</td>\n",
       "      <td>2018-11-22 11:50:43.195</td>\n",
       "    </tr>\n",
       "    <tr>\n",
       "      <th>1007</th>\n",
       "      <td>52.5984</td>\n",
       "      <td>-43.6209</td>\n",
       "      <td>231.74</td>\n",
       "      <td>2018-11-22 11:50:43.195</td>\n",
       "    </tr>\n",
       "  </tbody>\n",
       "</table>\n",
       "<p>1008 rows × 4 columns</p>\n",
       "</div>"
      ],
      "text/plain": [
       "      latitude  longitude  brightnessTemperature           data_datetime\n",
       "0      53.3542    -9.2014                 228.05 2018-11-22 11:48:54.396\n",
       "1      53.7226   -10.2683                 229.25 2018-11-22 11:48:54.396\n",
       "2      54.0425   -11.2363                 229.04 2018-11-22 11:48:54.396\n",
       "3      54.3240   -12.1233                 224.29 2018-11-22 11:48:54.396\n",
       "4      54.5743   -12.9427                 227.36 2018-11-22 11:48:54.396\n",
       "...        ...        ...                    ...                     ...\n",
       "1003   52.3751   -39.5162                 232.14 2018-11-22 11:50:43.195\n",
       "1004   52.4339   -40.3908                 231.69 2018-11-22 11:50:43.195\n",
       "1005   52.4916   -41.3527                 232.04 2018-11-22 11:50:43.195\n",
       "1006   52.5470   -42.4209                 230.93 2018-11-22 11:50:43.195\n",
       "1007   52.5984   -43.6209                 231.74 2018-11-22 11:50:43.195\n",
       "\n",
       "[1008 rows x 4 columns]"
      ]
     },
     "execution_count": 3,
     "metadata": {},
     "output_type": "execute_result"
    }
   ],
   "source": [
    "df = pdbufr.read_bufr(\"hirs.bufr\", \n",
    "    columns=(\"data_datetime\", \"latitude\", \"longitude\", \"brightnessTemperature\"),\n",
    "    filters={\"count\": 1, \n",
    "            \"radiometerIdentifier\": 6, \n",
    "            \"tovsOrAtovsOrAvhrrInstrumentationChannelNumber\": 5})\n",
    "df"
   ]
  }
 ],
 "metadata": {
  "kernelspec": {
   "display_name": "Python 3.8.14 ('mpy38')",
   "language": "python",
   "name": "python3"
  },
  "language_info": {
   "codemirror_mode": {
    "name": "ipython",
    "version": 3
   },
   "file_extension": ".py",
   "mimetype": "text/x-python",
   "name": "python",
   "nbconvert_exporter": "python",
   "pygments_lexer": "ipython3",
   "version": "3.8.14"
  },
  "orig_nbformat": 4,
  "vscode": {
   "interpreter": {
    "hash": "22dc05efe0944894879e71a134ce5db002aedecbcd8b98acee6e3c2217e44519"
   }
  }
 },
 "nbformat": 4,
 "nbformat_minor": 2
}
