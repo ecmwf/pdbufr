{
 "cells": [
  {
   "cell_type": "code",
   "execution_count": 1,
   "id": "ee62959d-4b21-462c-881d-2931047531ec",
   "metadata": {
    "editable": true,
    "slideshow": {
     "slide_type": ""
    },
    "tags": []
   },
   "outputs": [],
   "source": [
    "!test -f temp_small.bufr || wget https://get.ecmwf.int/repository/test-data/pdbufr/test-data/temp_small.bufr"
   ]
  },
  {
   "cell_type": "markdown",
   "id": "a1867cba-dbbb-4856-96e4-6c3d2c113ef9",
   "metadata": {
    "editable": true,
    "slideshow": {
     "slide_type": ""
    },
    "tags": []
   },
   "source": [
    "## Temp: overview"
   ]
  },
  {
   "cell_type": "code",
   "execution_count": 2,
   "id": "a209a358-fa42-462f-ad76-c7cc801737fd",
   "metadata": {
    "editable": true,
    "slideshow": {
     "slide_type": ""
    },
    "tags": []
   },
   "outputs": [],
   "source": [
    "import pdbufr"
   ]
  },
  {
   "cell_type": "raw",
   "id": "cde468ee-da73-49d5-a7e6-a8c6dadbf7a6",
   "metadata": {
    "editable": true,
    "raw_mimetype": "text/restructuredtext",
    "slideshow": {
     "slide_type": ""
    },
    "tags": []
   },
   "source": [
    "The input BUFR data contains Temp (radiosonde) observations. In this notebook we will read this file with the :ref:`temp reader <temp-reader>`, which uses :ref:`pre-defined parameters <temp-params>` instead of the ecCodes BUFR keys. Parameter is a high-level concept in ``pdbufr`` enabling data extraction without knowing the actual BUFR encoding and allowing more tailor-made access to specific data types."
   ]
  },
  {
   "cell_type": "markdown",
   "id": "b7788371-ce79-4eb4-8ab6-e5b7ecf9664a",
   "metadata": {
    "editable": true,
    "slideshow": {
     "slide_type": ""
    },
    "tags": []
   },
   "source": [
    "#### The default settings"
   ]
  },
  {
   "cell_type": "raw",
   "id": "e04427eb-fbdd-4992-8d8c-d7ebb651e961",
   "metadata": {
    "editable": true,
    "raw_mimetype": "text/restructuredtext",
    "slideshow": {
     "slide_type": ""
    },
    "tags": []
   },
   "source": [
    "By default the \"stnid\", \"lat\", \"lon\", \"elevation\", \"time\" (see :ref:`station parameters <temp-station-params>` for details) and the :ref:`upper level parameters <temp-upper-params>` are extracted. We only extract the first station from the BUFR file by specifying a ``filter``. The resulting dataframe contains one row per pressure level."
   ]
  },
  {
   "cell_type": "code",
   "execution_count": 3,
   "id": "442ec325-ac17-4c94-a1aa-e7a49fbf59ed",
   "metadata": {
    "editable": true,
    "slideshow": {
     "slide_type": ""
    },
    "tags": []
   },
   "outputs": [
    {
     "data": {
      "text/html": [
       "<div>\n",
       "<style scoped>\n",
       "    .dataframe tbody tr th:only-of-type {\n",
       "        vertical-align: middle;\n",
       "    }\n",
       "\n",
       "    .dataframe tbody tr th {\n",
       "        vertical-align: top;\n",
       "    }\n",
       "\n",
       "    .dataframe thead th {\n",
       "        text-align: right;\n",
       "    }\n",
       "</style>\n",
       "<table border=\"1\" class=\"dataframe\">\n",
       "  <thead>\n",
       "    <tr style=\"text-align: right;\">\n",
       "      <th></th>\n",
       "      <th>stnid</th>\n",
       "      <th>lat</th>\n",
       "      <th>lon</th>\n",
       "      <th>elevation</th>\n",
       "      <th>time</th>\n",
       "      <th>pressure</th>\n",
       "      <th>z</th>\n",
       "      <th>t</th>\n",
       "      <th>td</th>\n",
       "      <th>wind_speed</th>\n",
       "      <th>wind_dir</th>\n",
       "    </tr>\n",
       "  </thead>\n",
       "  <tbody>\n",
       "    <tr>\n",
       "      <th>0</th>\n",
       "      <td>71907</td>\n",
       "      <td>58.47</td>\n",
       "      <td>-78.08</td>\n",
       "      <td>26</td>\n",
       "      <td>2008-12-08 12:00:00</td>\n",
       "      <td>100300.0</td>\n",
       "      <td>250.0</td>\n",
       "      <td>258.3</td>\n",
       "      <td>255.7</td>\n",
       "      <td>NaN</td>\n",
       "      <td>NaN</td>\n",
       "    </tr>\n",
       "    <tr>\n",
       "      <th>1</th>\n",
       "      <td>71907</td>\n",
       "      <td>58.47</td>\n",
       "      <td>-78.08</td>\n",
       "      <td>26</td>\n",
       "      <td>2008-12-08 12:00:00</td>\n",
       "      <td>100000.0</td>\n",
       "      <td>430.0</td>\n",
       "      <td>259.7</td>\n",
       "      <td>258.3</td>\n",
       "      <td>0.0</td>\n",
       "      <td>0.0</td>\n",
       "    </tr>\n",
       "    <tr>\n",
       "      <th>2</th>\n",
       "      <td>71907</td>\n",
       "      <td>58.47</td>\n",
       "      <td>-78.08</td>\n",
       "      <td>26</td>\n",
       "      <td>2008-12-08 12:00:00</td>\n",
       "      <td>99800.0</td>\n",
       "      <td>630.0</td>\n",
       "      <td>261.1</td>\n",
       "      <td>259.6</td>\n",
       "      <td>NaN</td>\n",
       "      <td>NaN</td>\n",
       "    </tr>\n",
       "    <tr>\n",
       "      <th>3</th>\n",
       "      <td>71907</td>\n",
       "      <td>58.47</td>\n",
       "      <td>-78.08</td>\n",
       "      <td>26</td>\n",
       "      <td>2008-12-08 12:00:00</td>\n",
       "      <td>99100.0</td>\n",
       "      <td>1160.0</td>\n",
       "      <td>261.7</td>\n",
       "      <td>258.3</td>\n",
       "      <td>NaN</td>\n",
       "      <td>NaN</td>\n",
       "    </tr>\n",
       "    <tr>\n",
       "      <th>4</th>\n",
       "      <td>71907</td>\n",
       "      <td>58.47</td>\n",
       "      <td>-78.08</td>\n",
       "      <td>26</td>\n",
       "      <td>2008-12-08 12:00:00</td>\n",
       "      <td>92500.0</td>\n",
       "      <td>6240.0</td>\n",
       "      <td>258.1</td>\n",
       "      <td>256.2</td>\n",
       "      <td>5.0</td>\n",
       "      <td>275.0</td>\n",
       "    </tr>\n",
       "    <tr>\n",
       "      <th>5</th>\n",
       "      <td>71907</td>\n",
       "      <td>58.47</td>\n",
       "      <td>-78.08</td>\n",
       "      <td>26</td>\n",
       "      <td>2008-12-08 12:00:00</td>\n",
       "      <td>85000.0</td>\n",
       "      <td>12470.0</td>\n",
       "      <td>253.1</td>\n",
       "      <td>251.0</td>\n",
       "      <td>9.0</td>\n",
       "      <td>250.0</td>\n",
       "    </tr>\n",
       "    <tr>\n",
       "      <th>6</th>\n",
       "      <td>71907</td>\n",
       "      <td>58.47</td>\n",
       "      <td>-78.08</td>\n",
       "      <td>26</td>\n",
       "      <td>2008-12-08 12:00:00</td>\n",
       "      <td>75100.0</td>\n",
       "      <td>21340.0</td>\n",
       "      <td>245.3</td>\n",
       "      <td>244.2</td>\n",
       "      <td>NaN</td>\n",
       "      <td>NaN</td>\n",
       "    </tr>\n",
       "    <tr>\n",
       "      <th>7</th>\n",
       "      <td>71907</td>\n",
       "      <td>58.47</td>\n",
       "      <td>-78.08</td>\n",
       "      <td>26</td>\n",
       "      <td>2008-12-08 12:00:00</td>\n",
       "      <td>72400.0</td>\n",
       "      <td>23900.0</td>\n",
       "      <td>242.9</td>\n",
       "      <td>239.7</td>\n",
       "      <td>NaN</td>\n",
       "      <td>NaN</td>\n",
       "    </tr>\n",
       "    <tr>\n",
       "      <th>8</th>\n",
       "      <td>71907</td>\n",
       "      <td>58.47</td>\n",
       "      <td>-78.08</td>\n",
       "      <td>26</td>\n",
       "      <td>2008-12-08 12:00:00</td>\n",
       "      <td>71700.0</td>\n",
       "      <td>24580.0</td>\n",
       "      <td>242.3</td>\n",
       "      <td>239.3</td>\n",
       "      <td>NaN</td>\n",
       "      <td>NaN</td>\n",
       "    </tr>\n",
       "    <tr>\n",
       "      <th>9</th>\n",
       "      <td>71907</td>\n",
       "      <td>58.47</td>\n",
       "      <td>-78.08</td>\n",
       "      <td>26</td>\n",
       "      <td>2008-12-08 12:00:00</td>\n",
       "      <td>70000.0</td>\n",
       "      <td>26240.0</td>\n",
       "      <td>241.7</td>\n",
       "      <td>238.3</td>\n",
       "      <td>12.0</td>\n",
       "      <td>235.0</td>\n",
       "    </tr>\n",
       "  </tbody>\n",
       "</table>\n",
       "</div>"
      ],
      "text/plain": [
       "   stnid    lat    lon  elevation                time  pressure        z  \\\n",
       "0  71907  58.47 -78.08         26 2008-12-08 12:00:00  100300.0    250.0   \n",
       "1  71907  58.47 -78.08         26 2008-12-08 12:00:00  100000.0    430.0   \n",
       "2  71907  58.47 -78.08         26 2008-12-08 12:00:00   99800.0    630.0   \n",
       "3  71907  58.47 -78.08         26 2008-12-08 12:00:00   99100.0   1160.0   \n",
       "4  71907  58.47 -78.08         26 2008-12-08 12:00:00   92500.0   6240.0   \n",
       "5  71907  58.47 -78.08         26 2008-12-08 12:00:00   85000.0  12470.0   \n",
       "6  71907  58.47 -78.08         26 2008-12-08 12:00:00   75100.0  21340.0   \n",
       "7  71907  58.47 -78.08         26 2008-12-08 12:00:00   72400.0  23900.0   \n",
       "8  71907  58.47 -78.08         26 2008-12-08 12:00:00   71700.0  24580.0   \n",
       "9  71907  58.47 -78.08         26 2008-12-08 12:00:00   70000.0  26240.0   \n",
       "\n",
       "       t     td  wind_speed  wind_dir  \n",
       "0  258.3  255.7         NaN       NaN  \n",
       "1  259.7  258.3         0.0       0.0  \n",
       "2  261.1  259.6         NaN       NaN  \n",
       "3  261.7  258.3         NaN       NaN  \n",
       "4  258.1  256.2         5.0     275.0  \n",
       "5  253.1  251.0         9.0     250.0  \n",
       "6  245.3  244.2         NaN       NaN  \n",
       "7  242.9  239.7         NaN       NaN  \n",
       "8  242.3  239.3         NaN       NaN  \n",
       "9  241.7  238.3        12.0     235.0  "
      ]
     },
     "execution_count": 3,
     "metadata": {},
     "output_type": "execute_result"
    }
   ],
   "source": [
    "df = pdbufr.read_bufr(\"temp_small.bufr\", reader=\"temp\", filters={\"count\": 1})\n",
    "df[:10]"
   ]
  },
  {
   "cell_type": "markdown",
   "id": "b04b469a-2e8d-4607-a08d-9e394ce61c9c",
   "metadata": {
    "editable": true,
    "slideshow": {
     "slide_type": ""
    },
    "tags": []
   },
   "source": [
    "#### Using parameter groups"
   ]
  },
  {
   "cell_type": "raw",
   "id": "5c8c77d1-fa9f-422f-bb0d-01c66adb63f7",
   "metadata": {
    "editable": true,
    "raw_mimetype": "text/restructuredtext",
    "slideshow": {
     "slide_type": ""
    },
    "tags": []
   },
   "source": [
    "By using the ``columns`` option we can control the parameters to extract. Using the pre-defined values of \"station\", \"location\" or \"geometry\" we will only read station related information yielding one row per station. See details :ref:`here <temp-reader>`."
   ]
  },
  {
   "cell_type": "code",
   "execution_count": 4,
   "id": "5374286e-2fe4-436f-b258-b718ab8efbd7",
   "metadata": {
    "editable": true,
    "slideshow": {
     "slide_type": ""
    },
    "tags": []
   },
   "outputs": [
    {
     "data": {
      "text/html": [
       "<div>\n",
       "<style scoped>\n",
       "    .dataframe tbody tr th:only-of-type {\n",
       "        vertical-align: middle;\n",
       "    }\n",
       "\n",
       "    .dataframe tbody tr th {\n",
       "        vertical-align: top;\n",
       "    }\n",
       "\n",
       "    .dataframe thead th {\n",
       "        text-align: right;\n",
       "    }\n",
       "</style>\n",
       "<table border=\"1\" class=\"dataframe\">\n",
       "  <thead>\n",
       "    <tr style=\"text-align: right;\">\n",
       "      <th></th>\n",
       "      <th>stnid</th>\n",
       "      <th>lat</th>\n",
       "      <th>lon</th>\n",
       "      <th>elevation</th>\n",
       "      <th>time</th>\n",
       "    </tr>\n",
       "  </thead>\n",
       "  <tbody>\n",
       "    <tr>\n",
       "      <th>0</th>\n",
       "      <td>71907</td>\n",
       "      <td>58.47</td>\n",
       "      <td>-78.08</td>\n",
       "      <td>26</td>\n",
       "      <td>2008-12-08 12:00:00</td>\n",
       "    </tr>\n",
       "    <tr>\n",
       "      <th>1</th>\n",
       "      <td>71823</td>\n",
       "      <td>53.75</td>\n",
       "      <td>-73.67</td>\n",
       "      <td>302</td>\n",
       "      <td>2008-12-08 12:00:00</td>\n",
       "    </tr>\n",
       "    <tr>\n",
       "      <th>2</th>\n",
       "      <td>89009</td>\n",
       "      <td>-90.00</td>\n",
       "      <td>0.00</td>\n",
       "      <td>2835</td>\n",
       "      <td>2008-12-08 12:00:00</td>\n",
       "    </tr>\n",
       "    <tr>\n",
       "      <th>3</th>\n",
       "      <td>91348</td>\n",
       "      <td>6.97</td>\n",
       "      <td>158.22</td>\n",
       "      <td>38</td>\n",
       "      <td>2008-12-08 12:00:00</td>\n",
       "    </tr>\n",
       "    <tr>\n",
       "      <th>4</th>\n",
       "      <td>91408</td>\n",
       "      <td>7.33</td>\n",
       "      <td>134.48</td>\n",
       "      <td>30</td>\n",
       "      <td>2008-12-08 12:00:00</td>\n",
       "    </tr>\n",
       "    <tr>\n",
       "      <th>5</th>\n",
       "      <td>71836</td>\n",
       "      <td>51.27</td>\n",
       "      <td>-80.65</td>\n",
       "      <td>11</td>\n",
       "      <td>2008-12-08 12:00:00</td>\n",
       "    </tr>\n",
       "    <tr>\n",
       "      <th>6</th>\n",
       "      <td>83612</td>\n",
       "      <td>-20.47</td>\n",
       "      <td>-54.67</td>\n",
       "      <td>567</td>\n",
       "      <td>2008-12-08 12:00:00</td>\n",
       "    </tr>\n",
       "  </tbody>\n",
       "</table>\n",
       "</div>"
      ],
      "text/plain": [
       "   stnid    lat     lon  elevation                time\n",
       "0  71907  58.47  -78.08         26 2008-12-08 12:00:00\n",
       "1  71823  53.75  -73.67        302 2008-12-08 12:00:00\n",
       "2  89009 -90.00    0.00       2835 2008-12-08 12:00:00\n",
       "3  91348   6.97  158.22         38 2008-12-08 12:00:00\n",
       "4  91408   7.33  134.48         30 2008-12-08 12:00:00\n",
       "5  71836  51.27  -80.65         11 2008-12-08 12:00:00\n",
       "6  83612 -20.47  -54.67        567 2008-12-08 12:00:00"
      ]
     },
     "execution_count": 4,
     "metadata": {},
     "output_type": "execute_result"
    }
   ],
   "source": [
    "pdbufr.read_bufr(\"temp_small.bufr\", reader=\"temp\", columns=\"station\")"
   ]
  },
  {
   "cell_type": "code",
   "execution_count": 5,
   "id": "023b37ee-486f-41c0-82c2-94fdcf921396",
   "metadata": {
    "editable": true,
    "slideshow": {
     "slide_type": ""
    },
    "tags": []
   },
   "outputs": [
    {
     "data": {
      "text/html": [
       "<div>\n",
       "<style scoped>\n",
       "    .dataframe tbody tr th:only-of-type {\n",
       "        vertical-align: middle;\n",
       "    }\n",
       "\n",
       "    .dataframe tbody tr th {\n",
       "        vertical-align: top;\n",
       "    }\n",
       "\n",
       "    .dataframe thead th {\n",
       "        text-align: right;\n",
       "    }\n",
       "</style>\n",
       "<table border=\"1\" class=\"dataframe\">\n",
       "  <thead>\n",
       "    <tr style=\"text-align: right;\">\n",
       "      <th></th>\n",
       "      <th>lat</th>\n",
       "      <th>lon</th>\n",
       "    </tr>\n",
       "  </thead>\n",
       "  <tbody>\n",
       "    <tr>\n",
       "      <th>0</th>\n",
       "      <td>58.47</td>\n",
       "      <td>-78.08</td>\n",
       "    </tr>\n",
       "    <tr>\n",
       "      <th>1</th>\n",
       "      <td>53.75</td>\n",
       "      <td>-73.67</td>\n",
       "    </tr>\n",
       "    <tr>\n",
       "      <th>2</th>\n",
       "      <td>-90.00</td>\n",
       "      <td>0.00</td>\n",
       "    </tr>\n",
       "    <tr>\n",
       "      <th>3</th>\n",
       "      <td>6.97</td>\n",
       "      <td>158.22</td>\n",
       "    </tr>\n",
       "    <tr>\n",
       "      <th>4</th>\n",
       "      <td>7.33</td>\n",
       "      <td>134.48</td>\n",
       "    </tr>\n",
       "    <tr>\n",
       "      <th>5</th>\n",
       "      <td>51.27</td>\n",
       "      <td>-80.65</td>\n",
       "    </tr>\n",
       "    <tr>\n",
       "      <th>6</th>\n",
       "      <td>-20.47</td>\n",
       "      <td>-54.67</td>\n",
       "    </tr>\n",
       "  </tbody>\n",
       "</table>\n",
       "</div>"
      ],
      "text/plain": [
       "     lat     lon\n",
       "0  58.47  -78.08\n",
       "1  53.75  -73.67\n",
       "2 -90.00    0.00\n",
       "3   6.97  158.22\n",
       "4   7.33  134.48\n",
       "5  51.27  -80.65\n",
       "6 -20.47  -54.67"
      ]
     },
     "execution_count": 5,
     "metadata": {},
     "output_type": "execute_result"
    }
   ],
   "source": [
    "pdbufr.read_bufr(\"temp_small.bufr\", reader=\"temp\", columns=\"location\")"
   ]
  },
  {
   "cell_type": "code",
   "execution_count": 6,
   "id": "5b8c044f-2f0a-40f4-93fd-1aa605ce7658",
   "metadata": {
    "editable": true,
    "slideshow": {
     "slide_type": ""
    },
    "tags": []
   },
   "outputs": [
    {
     "data": {
      "text/html": [
       "<div>\n",
       "<style scoped>\n",
       "    .dataframe tbody tr th:only-of-type {\n",
       "        vertical-align: middle;\n",
       "    }\n",
       "\n",
       "    .dataframe tbody tr th {\n",
       "        vertical-align: top;\n",
       "    }\n",
       "\n",
       "    .dataframe thead th {\n",
       "        text-align: right;\n",
       "    }\n",
       "</style>\n",
       "<table border=\"1\" class=\"dataframe\">\n",
       "  <thead>\n",
       "    <tr style=\"text-align: right;\">\n",
       "      <th></th>\n",
       "      <th>lat</th>\n",
       "      <th>lon</th>\n",
       "      <th>elevation</th>\n",
       "    </tr>\n",
       "  </thead>\n",
       "  <tbody>\n",
       "    <tr>\n",
       "      <th>0</th>\n",
       "      <td>58.47</td>\n",
       "      <td>-78.08</td>\n",
       "      <td>26</td>\n",
       "    </tr>\n",
       "    <tr>\n",
       "      <th>1</th>\n",
       "      <td>53.75</td>\n",
       "      <td>-73.67</td>\n",
       "      <td>302</td>\n",
       "    </tr>\n",
       "    <tr>\n",
       "      <th>2</th>\n",
       "      <td>-90.00</td>\n",
       "      <td>0.00</td>\n",
       "      <td>2835</td>\n",
       "    </tr>\n",
       "    <tr>\n",
       "      <th>3</th>\n",
       "      <td>6.97</td>\n",
       "      <td>158.22</td>\n",
       "      <td>38</td>\n",
       "    </tr>\n",
       "    <tr>\n",
       "      <th>4</th>\n",
       "      <td>7.33</td>\n",
       "      <td>134.48</td>\n",
       "      <td>30</td>\n",
       "    </tr>\n",
       "    <tr>\n",
       "      <th>5</th>\n",
       "      <td>51.27</td>\n",
       "      <td>-80.65</td>\n",
       "      <td>11</td>\n",
       "    </tr>\n",
       "    <tr>\n",
       "      <th>6</th>\n",
       "      <td>-20.47</td>\n",
       "      <td>-54.67</td>\n",
       "      <td>567</td>\n",
       "    </tr>\n",
       "  </tbody>\n",
       "</table>\n",
       "</div>"
      ],
      "text/plain": [
       "     lat     lon  elevation\n",
       "0  58.47  -78.08         26\n",
       "1  53.75  -73.67        302\n",
       "2 -90.00    0.00       2835\n",
       "3   6.97  158.22         38\n",
       "4   7.33  134.48         30\n",
       "5  51.27  -80.65         11\n",
       "6 -20.47  -54.67        567"
      ]
     },
     "execution_count": 6,
     "metadata": {},
     "output_type": "execute_result"
    }
   ],
   "source": [
    "pdbufr.read_bufr(\"temp_small.bufr\", reader=\"temp\", columns=\"geometry\")"
   ]
  },
  {
   "cell_type": "markdown",
   "id": "b47b8da8-6f35-4121-bcc6-840ada133bde",
   "metadata": {
    "editable": true,
    "slideshow": {
     "slide_type": ""
    },
    "tags": []
   },
   "source": [
    "We can can combine these groups with \"upper\", which represents the pressure level parameters. Please note thath at the moment it is not possible to use individual parameters in ``columns``."
   ]
  },
  {
   "cell_type": "code",
   "execution_count": 7,
   "id": "9ff9d4c1-b458-4dda-985e-00ba615e4ae5",
   "metadata": {
    "editable": true,
    "raw_mimetype": "",
    "slideshow": {
     "slide_type": ""
    },
    "tags": []
   },
   "outputs": [
    {
     "data": {
      "text/html": [
       "<div>\n",
       "<style scoped>\n",
       "    .dataframe tbody tr th:only-of-type {\n",
       "        vertical-align: middle;\n",
       "    }\n",
       "\n",
       "    .dataframe tbody tr th {\n",
       "        vertical-align: top;\n",
       "    }\n",
       "\n",
       "    .dataframe thead th {\n",
       "        text-align: right;\n",
       "    }\n",
       "</style>\n",
       "<table border=\"1\" class=\"dataframe\">\n",
       "  <thead>\n",
       "    <tr style=\"text-align: right;\">\n",
       "      <th></th>\n",
       "      <th>lat</th>\n",
       "      <th>lon</th>\n",
       "      <th>pressure</th>\n",
       "      <th>z</th>\n",
       "      <th>t</th>\n",
       "      <th>td</th>\n",
       "      <th>wind_speed</th>\n",
       "      <th>wind_dir</th>\n",
       "    </tr>\n",
       "  </thead>\n",
       "  <tbody>\n",
       "    <tr>\n",
       "      <th>0</th>\n",
       "      <td>58.47</td>\n",
       "      <td>-78.08</td>\n",
       "      <td>100300.0</td>\n",
       "      <td>250.0</td>\n",
       "      <td>258.3</td>\n",
       "      <td>255.7</td>\n",
       "      <td>NaN</td>\n",
       "      <td>NaN</td>\n",
       "    </tr>\n",
       "    <tr>\n",
       "      <th>1</th>\n",
       "      <td>58.47</td>\n",
       "      <td>-78.08</td>\n",
       "      <td>100000.0</td>\n",
       "      <td>430.0</td>\n",
       "      <td>259.7</td>\n",
       "      <td>258.3</td>\n",
       "      <td>0.0</td>\n",
       "      <td>0.0</td>\n",
       "    </tr>\n",
       "    <tr>\n",
       "      <th>2</th>\n",
       "      <td>58.47</td>\n",
       "      <td>-78.08</td>\n",
       "      <td>99800.0</td>\n",
       "      <td>630.0</td>\n",
       "      <td>261.1</td>\n",
       "      <td>259.6</td>\n",
       "      <td>NaN</td>\n",
       "      <td>NaN</td>\n",
       "    </tr>\n",
       "    <tr>\n",
       "      <th>3</th>\n",
       "      <td>58.47</td>\n",
       "      <td>-78.08</td>\n",
       "      <td>99100.0</td>\n",
       "      <td>1160.0</td>\n",
       "      <td>261.7</td>\n",
       "      <td>258.3</td>\n",
       "      <td>NaN</td>\n",
       "      <td>NaN</td>\n",
       "    </tr>\n",
       "    <tr>\n",
       "      <th>4</th>\n",
       "      <td>58.47</td>\n",
       "      <td>-78.08</td>\n",
       "      <td>92500.0</td>\n",
       "      <td>6240.0</td>\n",
       "      <td>258.1</td>\n",
       "      <td>256.2</td>\n",
       "      <td>5.0</td>\n",
       "      <td>275.0</td>\n",
       "    </tr>\n",
       "  </tbody>\n",
       "</table>\n",
       "</div>"
      ],
      "text/plain": [
       "     lat    lon  pressure       z      t     td  wind_speed  wind_dir\n",
       "0  58.47 -78.08  100300.0   250.0  258.3  255.7         NaN       NaN\n",
       "1  58.47 -78.08  100000.0   430.0  259.7  258.3         0.0       0.0\n",
       "2  58.47 -78.08   99800.0   630.0  261.1  259.6         NaN       NaN\n",
       "3  58.47 -78.08   99100.0  1160.0  261.7  258.3         NaN       NaN\n",
       "4  58.47 -78.08   92500.0  6240.0  258.1  256.2         5.0     275.0"
      ]
     },
     "execution_count": 7,
     "metadata": {},
     "output_type": "execute_result"
    }
   ],
   "source": [
    "df = pdbufr.read_bufr(\"temp_small.bufr\", reader=\"temp\", columns=[\"location\",\"upper\"], filters={\"count\": 1})\n",
    "df[:5]"
   ]
  },
  {
   "cell_type": "markdown",
   "id": "333adc31-69ba-4635-9464-ef1cc3a03fa3",
   "metadata": {
    "editable": true,
    "slideshow": {
     "slide_type": ""
    },
    "tags": []
   },
   "source": [
    "#### Adding units columns"
   ]
  },
  {
   "cell_type": "markdown",
   "id": "b71f9d2c-0ec0-4625-ab31-299d5a725a15",
   "metadata": {
    "editable": true,
    "slideshow": {
     "slide_type": ""
    },
    "tags": []
   },
   "source": [
    "With ``units_columns=True`` we can add units to the resulting DataFrame."
   ]
  },
  {
   "cell_type": "code",
   "execution_count": 8,
   "id": "2a591c40-2254-426d-9b95-0f068bd612ce",
   "metadata": {
    "editable": true,
    "slideshow": {
     "slide_type": ""
    },
    "tags": []
   },
   "outputs": [
    {
     "data": {
      "text/html": [
       "<div>\n",
       "<style scoped>\n",
       "    .dataframe tbody tr th:only-of-type {\n",
       "        vertical-align: middle;\n",
       "    }\n",
       "\n",
       "    .dataframe tbody tr th {\n",
       "        vertical-align: top;\n",
       "    }\n",
       "\n",
       "    .dataframe thead th {\n",
       "        text-align: right;\n",
       "    }\n",
       "</style>\n",
       "<table border=\"1\" class=\"dataframe\">\n",
       "  <thead>\n",
       "    <tr style=\"text-align: right;\">\n",
       "      <th></th>\n",
       "      <th>stnid</th>\n",
       "      <th>lat</th>\n",
       "      <th>lon</th>\n",
       "      <th>elevation</th>\n",
       "      <th>time</th>\n",
       "      <th>pressure</th>\n",
       "      <th>pressure_units</th>\n",
       "      <th>z</th>\n",
       "      <th>z_units</th>\n",
       "      <th>t</th>\n",
       "      <th>t_units</th>\n",
       "      <th>td</th>\n",
       "      <th>td_units</th>\n",
       "      <th>wind_speed</th>\n",
       "      <th>wind_speed_units</th>\n",
       "      <th>wind_dir</th>\n",
       "      <th>wind_dir_units</th>\n",
       "    </tr>\n",
       "  </thead>\n",
       "  <tbody>\n",
       "    <tr>\n",
       "      <th>0</th>\n",
       "      <td>71907</td>\n",
       "      <td>58.47</td>\n",
       "      <td>-78.08</td>\n",
       "      <td>26</td>\n",
       "      <td>2008-12-08 12:00:00</td>\n",
       "      <td>100300.0</td>\n",
       "      <td>Pa</td>\n",
       "      <td>250.0</td>\n",
       "      <td>m2 s-2</td>\n",
       "      <td>258.3</td>\n",
       "      <td>K</td>\n",
       "      <td>255.7</td>\n",
       "      <td>K</td>\n",
       "      <td>NaN</td>\n",
       "      <td>m/s</td>\n",
       "      <td>NaN</td>\n",
       "      <td>deg</td>\n",
       "    </tr>\n",
       "    <tr>\n",
       "      <th>1</th>\n",
       "      <td>71907</td>\n",
       "      <td>58.47</td>\n",
       "      <td>-78.08</td>\n",
       "      <td>26</td>\n",
       "      <td>2008-12-08 12:00:00</td>\n",
       "      <td>100000.0</td>\n",
       "      <td>Pa</td>\n",
       "      <td>430.0</td>\n",
       "      <td>m2 s-2</td>\n",
       "      <td>259.7</td>\n",
       "      <td>K</td>\n",
       "      <td>258.3</td>\n",
       "      <td>K</td>\n",
       "      <td>0.0</td>\n",
       "      <td>m/s</td>\n",
       "      <td>0.0</td>\n",
       "      <td>deg</td>\n",
       "    </tr>\n",
       "    <tr>\n",
       "      <th>2</th>\n",
       "      <td>71907</td>\n",
       "      <td>58.47</td>\n",
       "      <td>-78.08</td>\n",
       "      <td>26</td>\n",
       "      <td>2008-12-08 12:00:00</td>\n",
       "      <td>99800.0</td>\n",
       "      <td>Pa</td>\n",
       "      <td>630.0</td>\n",
       "      <td>m2 s-2</td>\n",
       "      <td>261.1</td>\n",
       "      <td>K</td>\n",
       "      <td>259.6</td>\n",
       "      <td>K</td>\n",
       "      <td>NaN</td>\n",
       "      <td>m/s</td>\n",
       "      <td>NaN</td>\n",
       "      <td>deg</td>\n",
       "    </tr>\n",
       "    <tr>\n",
       "      <th>3</th>\n",
       "      <td>71907</td>\n",
       "      <td>58.47</td>\n",
       "      <td>-78.08</td>\n",
       "      <td>26</td>\n",
       "      <td>2008-12-08 12:00:00</td>\n",
       "      <td>99100.0</td>\n",
       "      <td>Pa</td>\n",
       "      <td>1160.0</td>\n",
       "      <td>m2 s-2</td>\n",
       "      <td>261.7</td>\n",
       "      <td>K</td>\n",
       "      <td>258.3</td>\n",
       "      <td>K</td>\n",
       "      <td>NaN</td>\n",
       "      <td>m/s</td>\n",
       "      <td>NaN</td>\n",
       "      <td>deg</td>\n",
       "    </tr>\n",
       "    <tr>\n",
       "      <th>4</th>\n",
       "      <td>71907</td>\n",
       "      <td>58.47</td>\n",
       "      <td>-78.08</td>\n",
       "      <td>26</td>\n",
       "      <td>2008-12-08 12:00:00</td>\n",
       "      <td>92500.0</td>\n",
       "      <td>Pa</td>\n",
       "      <td>6240.0</td>\n",
       "      <td>m2 s-2</td>\n",
       "      <td>258.1</td>\n",
       "      <td>K</td>\n",
       "      <td>256.2</td>\n",
       "      <td>K</td>\n",
       "      <td>5.0</td>\n",
       "      <td>m/s</td>\n",
       "      <td>275.0</td>\n",
       "      <td>deg</td>\n",
       "    </tr>\n",
       "  </tbody>\n",
       "</table>\n",
       "</div>"
      ],
      "text/plain": [
       "   stnid    lat    lon  elevation                time  pressure  \\\n",
       "0  71907  58.47 -78.08         26 2008-12-08 12:00:00  100300.0   \n",
       "1  71907  58.47 -78.08         26 2008-12-08 12:00:00  100000.0   \n",
       "2  71907  58.47 -78.08         26 2008-12-08 12:00:00   99800.0   \n",
       "3  71907  58.47 -78.08         26 2008-12-08 12:00:00   99100.0   \n",
       "4  71907  58.47 -78.08         26 2008-12-08 12:00:00   92500.0   \n",
       "\n",
       "  pressure_units       z z_units      t t_units     td td_units  wind_speed  \\\n",
       "0             Pa   250.0  m2 s-2  258.3       K  255.7        K         NaN   \n",
       "1             Pa   430.0  m2 s-2  259.7       K  258.3        K         0.0   \n",
       "2             Pa   630.0  m2 s-2  261.1       K  259.6        K         NaN   \n",
       "3             Pa  1160.0  m2 s-2  261.7       K  258.3        K         NaN   \n",
       "4             Pa  6240.0  m2 s-2  258.1       K  256.2        K         5.0   \n",
       "\n",
       "  wind_speed_units  wind_dir wind_dir_units  \n",
       "0              m/s       NaN            deg  \n",
       "1              m/s       0.0            deg  \n",
       "2              m/s       NaN            deg  \n",
       "3              m/s       NaN            deg  \n",
       "4              m/s     275.0            deg  "
      ]
     },
     "execution_count": 8,
     "metadata": {},
     "output_type": "execute_result"
    }
   ],
   "source": [
    "df = pdbufr.read_bufr(\"temp_small.bufr\", reader=\"temp\", filters={\"count\": 1}, units_columns=True)\n",
    "df[:5]"
   ]
  },
  {
   "cell_type": "code",
   "execution_count": null,
   "id": "5fb3c901-904b-4a79-918f-7ac11407feb6",
   "metadata": {
    "editable": true,
    "slideshow": {
     "slide_type": ""
    },
    "tags": []
   },
   "outputs": [],
   "source": []
  }
 ],
 "metadata": {
  "kernelspec": {
   "display_name": "dev",
   "language": "python",
   "name": "dev"
  },
  "language_info": {
   "codemirror_mode": {
    "name": "ipython",
    "version": 3
   },
   "file_extension": ".py",
   "mimetype": "text/x-python",
   "name": "python",
   "nbconvert_exporter": "python",
   "pygments_lexer": "ipython3",
   "version": "3.11.12"
  }
 },
 "nbformat": 4,
 "nbformat_minor": 5
}
