{
 "cells": [
  {
   "cell_type": "code",
   "execution_count": 1,
   "metadata": {},
   "outputs": [],
   "source": [
    "!test -f temp.bufr || wget https://github.com/ecmwf/pdbufr/raw/master/tests/sample-data/temp.bufr"
   ]
  },
  {
   "cell_type": "markdown",
   "metadata": {},
   "source": [
    "# Radiosonde data"
   ]
  },
  {
   "cell_type": "code",
   "execution_count": 2,
   "metadata": {},
   "outputs": [],
   "source": [
    "import pdbufr"
   ]
  },
  {
   "cell_type": "markdown",
   "metadata": {},
   "source": [
    "The input BUFR data contains radiosonde observations. Each message represents a given station and contains vertical profiles on a set of pressure levels. "
   ]
  },
  {
   "cell_type": "markdown",
   "metadata": {},
   "source": [
    "**Example 1**\n",
    "\n",
    "Getting WMO station ID and location for each message. Notice that since \"WMO_station_id\" is a computed key it appears as the last column in the resulting dataframe."
   ]
  },
  {
   "cell_type": "code",
   "execution_count": 3,
   "metadata": {},
   "outputs": [
    {
     "data": {
      "text/html": [
       "<div>\n",
       "<style scoped>\n",
       "    .dataframe tbody tr th:only-of-type {\n",
       "        vertical-align: middle;\n",
       "    }\n",
       "\n",
       "    .dataframe tbody tr th {\n",
       "        vertical-align: top;\n",
       "    }\n",
       "\n",
       "    .dataframe thead th {\n",
       "        text-align: right;\n",
       "    }\n",
       "</style>\n",
       "<table border=\"1\" class=\"dataframe\">\n",
       "  <thead>\n",
       "    <tr style=\"text-align: right;\">\n",
       "      <th></th>\n",
       "      <th>latitude</th>\n",
       "      <th>longitude</th>\n",
       "      <th>WMO_station_id</th>\n",
       "    </tr>\n",
       "  </thead>\n",
       "  <tbody>\n",
       "    <tr>\n",
       "      <th>0</th>\n",
       "      <td>58.47</td>\n",
       "      <td>-78.08</td>\n",
       "      <td>71907</td>\n",
       "    </tr>\n",
       "    <tr>\n",
       "      <th>1</th>\n",
       "      <td>53.75</td>\n",
       "      <td>-73.67</td>\n",
       "      <td>71823</td>\n",
       "    </tr>\n",
       "    <tr>\n",
       "      <th>2</th>\n",
       "      <td>-90.00</td>\n",
       "      <td>0.00</td>\n",
       "      <td>89009</td>\n",
       "    </tr>\n",
       "    <tr>\n",
       "      <th>3</th>\n",
       "      <td>18.43</td>\n",
       "      <td>-69.88</td>\n",
       "      <td>78486</td>\n",
       "    </tr>\n",
       "    <tr>\n",
       "      <th>4</th>\n",
       "      <td>21.98</td>\n",
       "      <td>-159.33</td>\n",
       "      <td>91165</td>\n",
       "    </tr>\n",
       "  </tbody>\n",
       "</table>\n",
       "</div>"
      ],
      "text/plain": [
       "   latitude  longitude  WMO_station_id\n",
       "0     58.47     -78.08           71907\n",
       "1     53.75     -73.67           71823\n",
       "2    -90.00       0.00           89009\n",
       "3     18.43     -69.88           78486\n",
       "4     21.98    -159.33           91165"
      ]
     },
     "execution_count": 3,
     "metadata": {},
     "output_type": "execute_result"
    }
   ],
   "source": [
    "df = pdbufr.read_bufr(\"temp.bufr\", \n",
    "    columns=(\"WMO_station_id\", \"latitude\", \"longitude\"))\n",
    "df.head()"
   ]
  },
  {
   "cell_type": "markdown",
   "metadata": {},
   "source": [
    "**Example 2**\n",
    "\n",
    "Extracting the same data but only for a given station."
   ]
  },
  {
   "cell_type": "code",
   "execution_count": 4,
   "metadata": {},
   "outputs": [
    {
     "data": {
      "text/html": [
       "<div>\n",
       "<style scoped>\n",
       "    .dataframe tbody tr th:only-of-type {\n",
       "        vertical-align: middle;\n",
       "    }\n",
       "\n",
       "    .dataframe tbody tr th {\n",
       "        vertical-align: top;\n",
       "    }\n",
       "\n",
       "    .dataframe thead th {\n",
       "        text-align: right;\n",
       "    }\n",
       "</style>\n",
       "<table border=\"1\" class=\"dataframe\">\n",
       "  <thead>\n",
       "    <tr style=\"text-align: right;\">\n",
       "      <th></th>\n",
       "      <th>latitude</th>\n",
       "      <th>longitude</th>\n",
       "      <th>WMO_station_id</th>\n",
       "    </tr>\n",
       "  </thead>\n",
       "  <tbody>\n",
       "    <tr>\n",
       "      <th>0</th>\n",
       "      <td>58.47</td>\n",
       "      <td>-78.08</td>\n",
       "      <td>71907</td>\n",
       "    </tr>\n",
       "  </tbody>\n",
       "</table>\n",
       "</div>"
      ],
      "text/plain": [
       "   latitude  longitude  WMO_station_id\n",
       "0     58.47     -78.08           71907"
      ]
     },
     "execution_count": 4,
     "metadata": {},
     "output_type": "execute_result"
    }
   ],
   "source": [
    "df = pdbufr.read_bufr(\"temp.bufr\", \n",
    "    columns=(\"WMO_station_id\", \"latitude\", \"longitude\"),\n",
    "    filters={\"WMO_station_id\": 71907},)\n",
    "df"
   ]
  },
  {
   "cell_type": "markdown",
   "metadata": {},
   "source": [
    "**Example 3**\n",
    "\n",
    "Getting temperature profiles for two stations."
   ]
  },
  {
   "cell_type": "code",
   "execution_count": 5,
   "metadata": {},
   "outputs": [
    {
     "data": {
      "text/html": [
       "<div>\n",
       "<style scoped>\n",
       "    .dataframe tbody tr th:only-of-type {\n",
       "        vertical-align: middle;\n",
       "    }\n",
       "\n",
       "    .dataframe tbody tr th {\n",
       "        vertical-align: top;\n",
       "    }\n",
       "\n",
       "    .dataframe thead th {\n",
       "        text-align: right;\n",
       "    }\n",
       "</style>\n",
       "<table border=\"1\" class=\"dataframe\">\n",
       "  <thead>\n",
       "    <tr style=\"text-align: right;\">\n",
       "      <th></th>\n",
       "      <th>pressure</th>\n",
       "      <th>airTemperature</th>\n",
       "      <th>data_datetime</th>\n",
       "      <th>WMO_station_id</th>\n",
       "    </tr>\n",
       "  </thead>\n",
       "  <tbody>\n",
       "    <tr>\n",
       "      <th>0</th>\n",
       "      <td>100300.0</td>\n",
       "      <td>258.3</td>\n",
       "      <td>2008-12-08 12:00:00</td>\n",
       "      <td>71907</td>\n",
       "    </tr>\n",
       "    <tr>\n",
       "      <th>1</th>\n",
       "      <td>100000.0</td>\n",
       "      <td>259.7</td>\n",
       "      <td>2008-12-08 12:00:00</td>\n",
       "      <td>71907</td>\n",
       "    </tr>\n",
       "    <tr>\n",
       "      <th>2</th>\n",
       "      <td>99800.0</td>\n",
       "      <td>261.1</td>\n",
       "      <td>2008-12-08 12:00:00</td>\n",
       "      <td>71907</td>\n",
       "    </tr>\n",
       "    <tr>\n",
       "      <th>3</th>\n",
       "      <td>99100.0</td>\n",
       "      <td>261.7</td>\n",
       "      <td>2008-12-08 12:00:00</td>\n",
       "      <td>71907</td>\n",
       "    </tr>\n",
       "    <tr>\n",
       "      <th>4</th>\n",
       "      <td>92500.0</td>\n",
       "      <td>258.1</td>\n",
       "      <td>2008-12-08 12:00:00</td>\n",
       "      <td>71907</td>\n",
       "    </tr>\n",
       "  </tbody>\n",
       "</table>\n",
       "</div>"
      ],
      "text/plain": [
       "   pressure  airTemperature       data_datetime  WMO_station_id\n",
       "0  100300.0           258.3 2008-12-08 12:00:00           71907\n",
       "1  100000.0           259.7 2008-12-08 12:00:00           71907\n",
       "2   99800.0           261.1 2008-12-08 12:00:00           71907\n",
       "3   99100.0           261.7 2008-12-08 12:00:00           71907\n",
       "4   92500.0           258.1 2008-12-08 12:00:00           71907"
      ]
     },
     "execution_count": 5,
     "metadata": {},
     "output_type": "execute_result"
    }
   ],
   "source": [
    "df = pdbufr.read_bufr(\"temp.bufr\",\n",
    "    columns=(\"WMO_station_id\", \"data_datetime\", \"pressure\", \"airTemperature\"),\n",
    "    filters={\"WMO_station_id\": [71823, 71907]})\n",
    "df.head()"
   ]
  },
  {
   "cell_type": "code",
   "execution_count": 6,
   "metadata": {},
   "outputs": [
    {
     "data": {
      "text/html": [
       "<div>\n",
       "<style scoped>\n",
       "    .dataframe tbody tr th:only-of-type {\n",
       "        vertical-align: middle;\n",
       "    }\n",
       "\n",
       "    .dataframe tbody tr th {\n",
       "        vertical-align: top;\n",
       "    }\n",
       "\n",
       "    .dataframe thead th {\n",
       "        text-align: right;\n",
       "    }\n",
       "</style>\n",
       "<table border=\"1\" class=\"dataframe\">\n",
       "  <thead>\n",
       "    <tr style=\"text-align: right;\">\n",
       "      <th></th>\n",
       "      <th>pressure</th>\n",
       "      <th>airTemperature</th>\n",
       "      <th>data_datetime</th>\n",
       "      <th>WMO_station_id</th>\n",
       "    </tr>\n",
       "  </thead>\n",
       "  <tbody>\n",
       "    <tr>\n",
       "      <th>44</th>\n",
       "      <td>30000.0</td>\n",
       "      <td>218.9</td>\n",
       "      <td>2008-12-08 12:00:00</td>\n",
       "      <td>71823</td>\n",
       "    </tr>\n",
       "    <tr>\n",
       "      <th>45</th>\n",
       "      <td>29700.0</td>\n",
       "      <td>218.9</td>\n",
       "      <td>2008-12-08 12:00:00</td>\n",
       "      <td>71823</td>\n",
       "    </tr>\n",
       "    <tr>\n",
       "      <th>46</th>\n",
       "      <td>25000.0</td>\n",
       "      <td>221.1</td>\n",
       "      <td>2008-12-08 12:00:00</td>\n",
       "      <td>71823</td>\n",
       "    </tr>\n",
       "    <tr>\n",
       "      <th>47</th>\n",
       "      <td>23200.0</td>\n",
       "      <td>223.1</td>\n",
       "      <td>2008-12-08 12:00:00</td>\n",
       "      <td>71823</td>\n",
       "    </tr>\n",
       "    <tr>\n",
       "      <th>48</th>\n",
       "      <td>20500.0</td>\n",
       "      <td>221.5</td>\n",
       "      <td>2008-12-08 12:00:00</td>\n",
       "      <td>71823</td>\n",
       "    </tr>\n",
       "  </tbody>\n",
       "</table>\n",
       "</div>"
      ],
      "text/plain": [
       "    pressure  airTemperature       data_datetime  WMO_station_id\n",
       "44   30000.0           218.9 2008-12-08 12:00:00           71823\n",
       "45   29700.0           218.9 2008-12-08 12:00:00           71823\n",
       "46   25000.0           221.1 2008-12-08 12:00:00           71823\n",
       "47   23200.0           223.1 2008-12-08 12:00:00           71823\n",
       "48   20500.0           221.5 2008-12-08 12:00:00           71823"
      ]
     },
     "execution_count": 6,
     "metadata": {},
     "output_type": "execute_result"
    }
   ],
   "source": [
    "df.tail()"
   ]
  },
  {
   "cell_type": "markdown",
   "metadata": {},
   "source": [
    "**Example 4** \n",
    "\n",
    "Extracting temperature profiles for a given station only on standard pressure levels when temperature >= -30 C."
   ]
  },
  {
   "cell_type": "code",
   "execution_count": 7,
   "metadata": {},
   "outputs": [
    {
     "data": {
      "text/html": [
       "<div>\n",
       "<style scoped>\n",
       "    .dataframe tbody tr th:only-of-type {\n",
       "        vertical-align: middle;\n",
       "    }\n",
       "\n",
       "    .dataframe tbody tr th {\n",
       "        vertical-align: top;\n",
       "    }\n",
       "\n",
       "    .dataframe thead th {\n",
       "        text-align: right;\n",
       "    }\n",
       "</style>\n",
       "<table border=\"1\" class=\"dataframe\">\n",
       "  <thead>\n",
       "    <tr style=\"text-align: right;\">\n",
       "      <th></th>\n",
       "      <th>pressure</th>\n",
       "      <th>airTemperature</th>\n",
       "      <th>data_datetime</th>\n",
       "      <th>WMO_station_id</th>\n",
       "    </tr>\n",
       "  </thead>\n",
       "  <tbody>\n",
       "    <tr>\n",
       "      <th>0</th>\n",
       "      <td>100000.0</td>\n",
       "      <td>259.7</td>\n",
       "      <td>2008-12-08 12:00:00</td>\n",
       "      <td>71907</td>\n",
       "    </tr>\n",
       "    <tr>\n",
       "      <th>1</th>\n",
       "      <td>92500.0</td>\n",
       "      <td>258.1</td>\n",
       "      <td>2008-12-08 12:00:00</td>\n",
       "      <td>71907</td>\n",
       "    </tr>\n",
       "    <tr>\n",
       "      <th>2</th>\n",
       "      <td>85000.0</td>\n",
       "      <td>253.1</td>\n",
       "      <td>2008-12-08 12:00:00</td>\n",
       "      <td>71907</td>\n",
       "    </tr>\n",
       "  </tbody>\n",
       "</table>\n",
       "</div>"
      ],
      "text/plain": [
       "   pressure  airTemperature       data_datetime  WMO_station_id\n",
       "0  100000.0           259.7 2008-12-08 12:00:00           71907\n",
       "1   92500.0           258.1 2008-12-08 12:00:00           71907\n",
       "2   85000.0           253.1 2008-12-08 12:00:00           71907"
      ]
     },
     "execution_count": 7,
     "metadata": {},
     "output_type": "execute_result"
    }
   ],
   "source": [
    "df = pdbufr.read_bufr(\"temp.bufr\",\n",
    "    columns=(\"WMO_station_id\", \"data_datetime\", \"pressure\", \"airTemperature\"),\n",
    "    filters={\"WMO_station_id\": 71907, \n",
    "            \"verticalSoundingSignificance\": 32, \n",
    "            \"airTemperature\": slice(243.16, None)})\n",
    "df"
   ]
  }
 ],
 "metadata": {
  "kernelspec": {
   "display_name": "Python 3.8.14 ('mpy38')",
   "language": "python",
   "name": "python3"
  },
  "language_info": {
   "codemirror_mode": {
    "name": "ipython",
    "version": 3
   },
   "file_extension": ".py",
   "mimetype": "text/x-python",
   "name": "python",
   "nbconvert_exporter": "python",
   "pygments_lexer": "ipython3",
   "version": "3.8.14"
  },
  "orig_nbformat": 4,
  "vscode": {
   "interpreter": {
    "hash": "22dc05efe0944894879e71a134ce5db002aedecbcd8b98acee6e3c2217e44519"
   }
  }
 },
 "nbformat": 4,
 "nbformat_minor": 2
}
