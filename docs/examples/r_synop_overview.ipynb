{
 "cells": [
  {
   "cell_type": "code",
   "execution_count": 1,
   "id": "ee62959d-4b21-462c-881d-2931047531ec",
   "metadata": {
    "editable": true,
    "slideshow": {
     "slide_type": ""
    },
    "tags": []
   },
   "outputs": [],
   "source": [
    "!test -f syn_new.bufr || wget https://github.com/ecmwf/pdbufr/raw/master/tests/sample-data/syn_new.bufr"
   ]
  },
  {
   "cell_type": "markdown",
   "id": "a1867cba-dbbb-4856-96e4-6c3d2c113ef9",
   "metadata": {
    "editable": true,
    "slideshow": {
     "slide_type": ""
    },
    "tags": []
   },
   "source": [
    "## Synop: overview"
   ]
  },
  {
   "cell_type": "code",
   "execution_count": 2,
   "id": "a209a358-fa42-462f-ad76-c7cc801737fd",
   "metadata": {
    "editable": true,
    "slideshow": {
     "slide_type": ""
    },
    "tags": []
   },
   "outputs": [],
   "source": [
    "import pdbufr"
   ]
  },
  {
   "cell_type": "raw",
   "id": "51e2de92-8cb9-40d2-a4f3-1e087532898c",
   "metadata": {
    "editable": true,
    "raw_mimetype": "text/x-rst",
    "slideshow": {
     "slide_type": ""
    },
    "tags": []
   },
   "source": [
    "The input BUFR data contains three SYNOP observations.\n",
    "\n",
    "In this notebook we will read this data with the :ref:`synop reader <synop-reader>`.\n",
    "\n",
    "This reader uses the concept of :ref:`pre-defined parameters <synop-params>` instead of the ecCodes BUFR keys. E.g. \"t2m\" represents the 2 meter temperature parameter. This quantity can be encoded in BUFR in multiple ways. By using the parameter, we do not need to deal with the actual BUFR representation, but pdbudr will automatically extract the value for us. "
   ]
  },
  {
   "cell_type": "markdown",
   "id": "b7788371-ce79-4eb4-8ab6-e5b7ecf9664a",
   "metadata": {
    "editable": true,
    "slideshow": {
     "slide_type": ""
    },
    "tags": []
   },
   "source": [
    "#### The default settings"
   ]
  },
  {
   "cell_type": "raw",
   "id": "e04427eb-fbdd-4992-8d8c-d7ebb651e961",
   "metadata": {
    "editable": true,
    "raw_mimetype": "text/x-rst",
    "slideshow": {
     "slide_type": ""
    },
    "tags": []
   },
   "source": [
    "By default all the :ref:`pre-defined parameters <synop-params>` are extracted."
   ]
  },
  {
   "cell_type": "code",
   "execution_count": 3,
   "id": "442ec325-ac17-4c94-a1aa-e7a49fbf59ed",
   "metadata": {
    "editable": true,
    "slideshow": {
     "slide_type": ""
    },
    "tags": []
   },
   "outputs": [],
   "source": [
    "df = pdbufr.read_bufr(\"syn_new.bufr\", reader=\"synop\")"
   ]
  },
  {
   "cell_type": "code",
   "execution_count": 4,
   "id": "063730f7-55dd-45d1-9ebc-b22c7659d6c6",
   "metadata": {
    "editable": true,
    "slideshow": {
     "slide_type": ""
    },
    "tags": []
   },
   "outputs": [
    {
     "data": {
      "text/html": [
       "<div>\n",
       "<style scoped>\n",
       "    .dataframe tbody tr th:only-of-type {\n",
       "        vertical-align: middle;\n",
       "    }\n",
       "\n",
       "    .dataframe tbody tr th {\n",
       "        vertical-align: top;\n",
       "    }\n",
       "\n",
       "    .dataframe thead th {\n",
       "        text-align: right;\n",
       "    }\n",
       "</style>\n",
       "<table border=\"1\" class=\"dataframe\">\n",
       "  <thead>\n",
       "    <tr style=\"text-align: right;\">\n",
       "      <th></th>\n",
       "      <th>0</th>\n",
       "      <th>1</th>\n",
       "      <th>2</th>\n",
       "    </tr>\n",
       "  </thead>\n",
       "  <tbody>\n",
       "    <tr>\n",
       "      <th>sid</th>\n",
       "      <td>91948</td>\n",
       "      <td>11766</td>\n",
       "      <td>56257</td>\n",
       "    </tr>\n",
       "    <tr>\n",
       "      <th>lat</th>\n",
       "      <td>-23.13017</td>\n",
       "      <td>49.77722</td>\n",
       "      <td>30.0</td>\n",
       "    </tr>\n",
       "    <tr>\n",
       "      <th>lon</th>\n",
       "      <td>-134.96533</td>\n",
       "      <td>17.54194</td>\n",
       "      <td>100.27</td>\n",
       "    </tr>\n",
       "    <tr>\n",
       "      <th>elevation</th>\n",
       "      <td>91.0</td>\n",
       "      <td>748.1</td>\n",
       "      <td>3950.0</td>\n",
       "    </tr>\n",
       "    <tr>\n",
       "      <th>time</th>\n",
       "      <td>2020-03-15 00:00:00</td>\n",
       "      <td>2020-03-15 00:00:00</td>\n",
       "      <td>2020-03-15 00:00:00</td>\n",
       "    </tr>\n",
       "    <tr>\n",
       "      <th>t2m</th>\n",
       "      <td>300.45</td>\n",
       "      <td>269.25</td>\n",
       "      <td>276.35</td>\n",
       "    </tr>\n",
       "    <tr>\n",
       "      <th>rh2m</th>\n",
       "      <td>73</td>\n",
       "      <td>65</td>\n",
       "      <td>37</td>\n",
       "    </tr>\n",
       "    <tr>\n",
       "      <th>td2m</th>\n",
       "      <td>295.15</td>\n",
       "      <td>263.55</td>\n",
       "      <td>263.05</td>\n",
       "    </tr>\n",
       "    <tr>\n",
       "      <th>wind10m_speed</th>\n",
       "      <td>1.6</td>\n",
       "      <td>4.0</td>\n",
       "      <td>2.5</td>\n",
       "    </tr>\n",
       "    <tr>\n",
       "      <th>wind10m_dir</th>\n",
       "      <td>100</td>\n",
       "      <td>60</td>\n",
       "      <td>229</td>\n",
       "    </tr>\n",
       "    <tr>\n",
       "      <th>wgust_speed_10min</th>\n",
       "      <td>5.3</td>\n",
       "      <td>NaN</td>\n",
       "      <td>NaN</td>\n",
       "    </tr>\n",
       "    <tr>\n",
       "      <th>wgust_dir_10min</th>\n",
       "      <td>110.0</td>\n",
       "      <td>NaN</td>\n",
       "      <td>NaN</td>\n",
       "    </tr>\n",
       "    <tr>\n",
       "      <th>wgust_speed_60min</th>\n",
       "      <td>5.3</td>\n",
       "      <td>NaN</td>\n",
       "      <td>NaN</td>\n",
       "    </tr>\n",
       "    <tr>\n",
       "      <th>wgust_dir_60min</th>\n",
       "      <td>110.0</td>\n",
       "      <td>NaN</td>\n",
       "      <td>NaN</td>\n",
       "    </tr>\n",
       "    <tr>\n",
       "      <th>wgust_speed_360min</th>\n",
       "      <td>7.6</td>\n",
       "      <td>NaN</td>\n",
       "      <td>NaN</td>\n",
       "    </tr>\n",
       "    <tr>\n",
       "      <th>wgust_dir_360min</th>\n",
       "      <td>130.0</td>\n",
       "      <td>NaN</td>\n",
       "      <td>NaN</td>\n",
       "    </tr>\n",
       "    <tr>\n",
       "      <th>present_weather</th>\n",
       "      <td>2</td>\n",
       "      <td>508</td>\n",
       "      <td>0</td>\n",
       "    </tr>\n",
       "    <tr>\n",
       "      <th>precipitation_1h</th>\n",
       "      <td>0.0</td>\n",
       "      <td>0.0</td>\n",
       "      <td>NaN</td>\n",
       "    </tr>\n",
       "    <tr>\n",
       "      <th>precipitation_3h</th>\n",
       "      <td>0.0</td>\n",
       "      <td>NaN</td>\n",
       "      <td>NaN</td>\n",
       "    </tr>\n",
       "    <tr>\n",
       "      <th>precipitation_6h</th>\n",
       "      <td>0.0</td>\n",
       "      <td>0.0</td>\n",
       "      <td>0.0</td>\n",
       "    </tr>\n",
       "    <tr>\n",
       "      <th>precipitation_12h</th>\n",
       "      <td>0.0</td>\n",
       "      <td>NaN</td>\n",
       "      <td>0.0</td>\n",
       "    </tr>\n",
       "    <tr>\n",
       "      <th>precipitation_24h</th>\n",
       "      <td>0.0</td>\n",
       "      <td>NaN</td>\n",
       "      <td>0.0</td>\n",
       "    </tr>\n",
       "    <tr>\n",
       "      <th>min_t2m_60min</th>\n",
       "      <td>NaN</td>\n",
       "      <td>NaN</td>\n",
       "      <td>NaN</td>\n",
       "    </tr>\n",
       "    <tr>\n",
       "      <th>min_t2m_0h</th>\n",
       "      <td>296.45</td>\n",
       "      <td>NaN</td>\n",
       "      <td>272.65</td>\n",
       "    </tr>\n",
       "    <tr>\n",
       "      <th>max_t2m_60min</th>\n",
       "      <td>300.75</td>\n",
       "      <td>NaN</td>\n",
       "      <td>NaN</td>\n",
       "    </tr>\n",
       "    <tr>\n",
       "      <th>max_t2m_nan</th>\n",
       "      <td>NaN</td>\n",
       "      <td>NaN</td>\n",
       "      <td>NaN</td>\n",
       "    </tr>\n",
       "    <tr>\n",
       "      <th>mslp</th>\n",
       "      <td>101320.0</td>\n",
       "      <td>NaN</td>\n",
       "      <td>100440.0</td>\n",
       "    </tr>\n",
       "    <tr>\n",
       "      <th>cloud_cover</th>\n",
       "      <td>25.0</td>\n",
       "      <td>NaN</td>\n",
       "      <td>0.0</td>\n",
       "    </tr>\n",
       "    <tr>\n",
       "      <th>snow_depth</th>\n",
       "      <td>NaN</td>\n",
       "      <td>NaN</td>\n",
       "      <td>0.0</td>\n",
       "    </tr>\n",
       "    <tr>\n",
       "      <th>max_t2m_0h</th>\n",
       "      <td>NaN</td>\n",
       "      <td>NaN</td>\n",
       "      <td>288.35</td>\n",
       "    </tr>\n",
       "    <tr>\n",
       "      <th>visibility</th>\n",
       "      <td>NaN</td>\n",
       "      <td>30000.0</td>\n",
       "      <td>30000.0</td>\n",
       "    </tr>\n",
       "    <tr>\n",
       "      <th>wgust_speed_nan</th>\n",
       "      <td>NaN</td>\n",
       "      <td>NaN</td>\n",
       "      <td>NaN</td>\n",
       "    </tr>\n",
       "    <tr>\n",
       "      <th>wgust_dir_nan</th>\n",
       "      <td>NaN</td>\n",
       "      <td>NaN</td>\n",
       "      <td>NaN</td>\n",
       "    </tr>\n",
       "    <tr>\n",
       "      <th>wgust_speed_720min</th>\n",
       "      <td>NaN</td>\n",
       "      <td>NaN</td>\n",
       "      <td>8.9</td>\n",
       "    </tr>\n",
       "    <tr>\n",
       "      <th>wgust_dir_720min</th>\n",
       "      <td>NaN</td>\n",
       "      <td>NaN</td>\n",
       "      <td>193.0</td>\n",
       "    </tr>\n",
       "  </tbody>\n",
       "</table>\n",
       "</div>"
      ],
      "text/plain": [
       "                                      0                    1  \\\n",
       "sid                               91948                11766   \n",
       "lat                           -23.13017             49.77722   \n",
       "lon                          -134.96533             17.54194   \n",
       "elevation                          91.0                748.1   \n",
       "time                2020-03-15 00:00:00  2020-03-15 00:00:00   \n",
       "t2m                              300.45               269.25   \n",
       "rh2m                                 73                   65   \n",
       "td2m                             295.15               263.55   \n",
       "wind10m_speed                       1.6                  4.0   \n",
       "wind10m_dir                         100                   60   \n",
       "wgust_speed_10min                   5.3                  NaN   \n",
       "wgust_dir_10min                   110.0                  NaN   \n",
       "wgust_speed_60min                   5.3                  NaN   \n",
       "wgust_dir_60min                   110.0                  NaN   \n",
       "wgust_speed_360min                  7.6                  NaN   \n",
       "wgust_dir_360min                  130.0                  NaN   \n",
       "present_weather                       2                  508   \n",
       "precipitation_1h                    0.0                  0.0   \n",
       "precipitation_3h                    0.0                  NaN   \n",
       "precipitation_6h                    0.0                  0.0   \n",
       "precipitation_12h                   0.0                  NaN   \n",
       "precipitation_24h                   0.0                  NaN   \n",
       "min_t2m_60min                       NaN                  NaN   \n",
       "min_t2m_0h                       296.45                  NaN   \n",
       "max_t2m_60min                    300.75                  NaN   \n",
       "max_t2m_nan                         NaN                  NaN   \n",
       "mslp                           101320.0                  NaN   \n",
       "cloud_cover                        25.0                  NaN   \n",
       "snow_depth                          NaN                  NaN   \n",
       "max_t2m_0h                          NaN                  NaN   \n",
       "visibility                          NaN              30000.0   \n",
       "wgust_speed_nan                     NaN                  NaN   \n",
       "wgust_dir_nan                       NaN                  NaN   \n",
       "wgust_speed_720min                  NaN                  NaN   \n",
       "wgust_dir_720min                    NaN                  NaN   \n",
       "\n",
       "                                      2  \n",
       "sid                               56257  \n",
       "lat                                30.0  \n",
       "lon                              100.27  \n",
       "elevation                        3950.0  \n",
       "time                2020-03-15 00:00:00  \n",
       "t2m                              276.35  \n",
       "rh2m                                 37  \n",
       "td2m                             263.05  \n",
       "wind10m_speed                       2.5  \n",
       "wind10m_dir                         229  \n",
       "wgust_speed_10min                   NaN  \n",
       "wgust_dir_10min                     NaN  \n",
       "wgust_speed_60min                   NaN  \n",
       "wgust_dir_60min                     NaN  \n",
       "wgust_speed_360min                  NaN  \n",
       "wgust_dir_360min                    NaN  \n",
       "present_weather                       0  \n",
       "precipitation_1h                    NaN  \n",
       "precipitation_3h                    NaN  \n",
       "precipitation_6h                    0.0  \n",
       "precipitation_12h                   0.0  \n",
       "precipitation_24h                   0.0  \n",
       "min_t2m_60min                       NaN  \n",
       "min_t2m_0h                       272.65  \n",
       "max_t2m_60min                       NaN  \n",
       "max_t2m_nan                         NaN  \n",
       "mslp                           100440.0  \n",
       "cloud_cover                         0.0  \n",
       "snow_depth                          0.0  \n",
       "max_t2m_0h                       288.35  \n",
       "visibility                      30000.0  \n",
       "wgust_speed_nan                     NaN  \n",
       "wgust_dir_nan                       NaN  \n",
       "wgust_speed_720min                  8.9  \n",
       "wgust_dir_720min                  193.0  "
      ]
     },
     "execution_count": 4,
     "metadata": {},
     "output_type": "execute_result"
    }
   ],
   "source": [
    "df.T"
   ]
  },
  {
   "cell_type": "code",
   "execution_count": 6,
   "id": "5374286e-2fe4-436f-b258-b718ab8efbd7",
   "metadata": {
    "editable": true,
    "slideshow": {
     "slide_type": ""
    },
    "tags": []
   },
   "outputs": [],
   "source": [
    "df = pdbufr.read_bufr(\"syn_new.bufr\", reader=\"synop\", columns=\"station\")"
   ]
  },
  {
   "cell_type": "code",
   "execution_count": 7,
   "id": "294f656e-d1f4-4170-bf59-2824366799b9",
   "metadata": {
    "editable": true,
    "slideshow": {
     "slide_type": ""
    },
    "tags": []
   },
   "outputs": [
    {
     "data": {
      "text/html": [
       "<div>\n",
       "<style scoped>\n",
       "    .dataframe tbody tr th:only-of-type {\n",
       "        vertical-align: middle;\n",
       "    }\n",
       "\n",
       "    .dataframe tbody tr th {\n",
       "        vertical-align: top;\n",
       "    }\n",
       "\n",
       "    .dataframe thead th {\n",
       "        text-align: right;\n",
       "    }\n",
       "</style>\n",
       "<table border=\"1\" class=\"dataframe\">\n",
       "  <thead>\n",
       "    <tr style=\"text-align: right;\">\n",
       "      <th></th>\n",
       "      <th>0</th>\n",
       "      <th>1</th>\n",
       "      <th>2</th>\n",
       "    </tr>\n",
       "  </thead>\n",
       "  <tbody>\n",
       "    <tr>\n",
       "      <th>sid</th>\n",
       "      <td>91948</td>\n",
       "      <td>11766</td>\n",
       "      <td>56257</td>\n",
       "    </tr>\n",
       "    <tr>\n",
       "      <th>lat</th>\n",
       "      <td>-23.13017</td>\n",
       "      <td>49.77722</td>\n",
       "      <td>30.0</td>\n",
       "    </tr>\n",
       "    <tr>\n",
       "      <th>lon</th>\n",
       "      <td>-134.96533</td>\n",
       "      <td>17.54194</td>\n",
       "      <td>100.27</td>\n",
       "    </tr>\n",
       "    <tr>\n",
       "      <th>elevation</th>\n",
       "      <td>91.0</td>\n",
       "      <td>748.1</td>\n",
       "      <td>3950.0</td>\n",
       "    </tr>\n",
       "    <tr>\n",
       "      <th>time</th>\n",
       "      <td>2020-03-15 00:00:00</td>\n",
       "      <td>2020-03-15 00:00:00</td>\n",
       "      <td>2020-03-15 00:00:00</td>\n",
       "    </tr>\n",
       "  </tbody>\n",
       "</table>\n",
       "</div>"
      ],
      "text/plain": [
       "                             0                    1                    2\n",
       "sid                      91948                11766                56257\n",
       "lat                  -23.13017             49.77722                 30.0\n",
       "lon                 -134.96533             17.54194               100.27\n",
       "elevation                 91.0                748.1               3950.0\n",
       "time       2020-03-15 00:00:00  2020-03-15 00:00:00  2020-03-15 00:00:00"
      ]
     },
     "execution_count": 7,
     "metadata": {},
     "output_type": "execute_result"
    }
   ],
   "source": [
    "df.T"
   ]
  },
  {
   "cell_type": "code",
   "execution_count": 9,
   "id": "023b37ee-486f-41c0-82c2-94fdcf921396",
   "metadata": {
    "editable": true,
    "slideshow": {
     "slide_type": ""
    },
    "tags": []
   },
   "outputs": [],
   "source": [
    "df = pdbufr.read_bufr(\"syn_new.bufr\", reader=\"synop\", columns=\"location\")"
   ]
  },
  {
   "cell_type": "code",
   "execution_count": 10,
   "id": "d2341ad2-886e-4697-a8c6-4de74f7ed486",
   "metadata": {
    "editable": true,
    "slideshow": {
     "slide_type": ""
    },
    "tags": []
   },
   "outputs": [
    {
     "data": {
      "text/html": [
       "<div>\n",
       "<style scoped>\n",
       "    .dataframe tbody tr th:only-of-type {\n",
       "        vertical-align: middle;\n",
       "    }\n",
       "\n",
       "    .dataframe tbody tr th {\n",
       "        vertical-align: top;\n",
       "    }\n",
       "\n",
       "    .dataframe thead th {\n",
       "        text-align: right;\n",
       "    }\n",
       "</style>\n",
       "<table border=\"1\" class=\"dataframe\">\n",
       "  <thead>\n",
       "    <tr style=\"text-align: right;\">\n",
       "      <th></th>\n",
       "      <th>0</th>\n",
       "      <th>1</th>\n",
       "      <th>2</th>\n",
       "    </tr>\n",
       "  </thead>\n",
       "  <tbody>\n",
       "    <tr>\n",
       "      <th>lat</th>\n",
       "      <td>-23.13017</td>\n",
       "      <td>49.77722</td>\n",
       "      <td>30.00</td>\n",
       "    </tr>\n",
       "    <tr>\n",
       "      <th>lon</th>\n",
       "      <td>-134.96533</td>\n",
       "      <td>17.54194</td>\n",
       "      <td>100.27</td>\n",
       "    </tr>\n",
       "  </tbody>\n",
       "</table>\n",
       "</div>"
      ],
      "text/plain": [
       "             0         1       2\n",
       "lat  -23.13017  49.77722   30.00\n",
       "lon -134.96533  17.54194  100.27"
      ]
     },
     "execution_count": 10,
     "metadata": {},
     "output_type": "execute_result"
    }
   ],
   "source": [
    "df.T"
   ]
  },
  {
   "cell_type": "code",
   "execution_count": 11,
   "id": "5b8c044f-2f0a-40f4-93fd-1aa605ce7658",
   "metadata": {
    "editable": true,
    "slideshow": {
     "slide_type": ""
    },
    "tags": []
   },
   "outputs": [],
   "source": [
    "df = pdbufr.read_bufr(\"syn_new.bufr\", reader=\"synop\", columns=\"geometry\")"
   ]
  },
  {
   "cell_type": "code",
   "execution_count": 12,
   "id": "d30fdcc0-6e0b-46c7-9d36-6b53545ae209",
   "metadata": {
    "editable": true,
    "slideshow": {
     "slide_type": ""
    },
    "tags": []
   },
   "outputs": [
    {
     "data": {
      "text/html": [
       "<div>\n",
       "<style scoped>\n",
       "    .dataframe tbody tr th:only-of-type {\n",
       "        vertical-align: middle;\n",
       "    }\n",
       "\n",
       "    .dataframe tbody tr th {\n",
       "        vertical-align: top;\n",
       "    }\n",
       "\n",
       "    .dataframe thead th {\n",
       "        text-align: right;\n",
       "    }\n",
       "</style>\n",
       "<table border=\"1\" class=\"dataframe\">\n",
       "  <thead>\n",
       "    <tr style=\"text-align: right;\">\n",
       "      <th></th>\n",
       "      <th>0</th>\n",
       "      <th>1</th>\n",
       "      <th>2</th>\n",
       "    </tr>\n",
       "  </thead>\n",
       "  <tbody>\n",
       "    <tr>\n",
       "      <th>lat</th>\n",
       "      <td>-23.13017</td>\n",
       "      <td>49.77722</td>\n",
       "      <td>30.00</td>\n",
       "    </tr>\n",
       "    <tr>\n",
       "      <th>lon</th>\n",
       "      <td>-134.96533</td>\n",
       "      <td>17.54194</td>\n",
       "      <td>100.27</td>\n",
       "    </tr>\n",
       "    <tr>\n",
       "      <th>elevation</th>\n",
       "      <td>91.00000</td>\n",
       "      <td>748.10000</td>\n",
       "      <td>3950.00</td>\n",
       "    </tr>\n",
       "  </tbody>\n",
       "</table>\n",
       "</div>"
      ],
      "text/plain": [
       "                   0          1        2\n",
       "lat        -23.13017   49.77722    30.00\n",
       "lon       -134.96533   17.54194   100.27\n",
       "elevation   91.00000  748.10000  3950.00"
      ]
     },
     "execution_count": 12,
     "metadata": {},
     "output_type": "execute_result"
    }
   ],
   "source": [
    "df.T"
   ]
  },
  {
   "cell_type": "code",
   "execution_count": 13,
   "id": "8ab3af58-4998-46e2-95c7-c5c0b48635e2",
   "metadata": {
    "editable": true,
    "slideshow": {
     "slide_type": ""
    },
    "tags": []
   },
   "outputs": [],
   "source": [
    "df = pdbufr.read_bufr(\"syn_new.bufr\", reader=\"synop\", columns=\"t2m\")"
   ]
  },
  {
   "cell_type": "code",
   "execution_count": 14,
   "id": "1402bdf6-671b-47ac-aaa3-c2940b1b5fa4",
   "metadata": {
    "editable": true,
    "slideshow": {
     "slide_type": ""
    },
    "tags": []
   },
   "outputs": [
    {
     "data": {
      "text/html": [
       "<div>\n",
       "<style scoped>\n",
       "    .dataframe tbody tr th:only-of-type {\n",
       "        vertical-align: middle;\n",
       "    }\n",
       "\n",
       "    .dataframe tbody tr th {\n",
       "        vertical-align: top;\n",
       "    }\n",
       "\n",
       "    .dataframe thead th {\n",
       "        text-align: right;\n",
       "    }\n",
       "</style>\n",
       "<table border=\"1\" class=\"dataframe\">\n",
       "  <thead>\n",
       "    <tr style=\"text-align: right;\">\n",
       "      <th></th>\n",
       "      <th>0</th>\n",
       "      <th>1</th>\n",
       "      <th>2</th>\n",
       "    </tr>\n",
       "  </thead>\n",
       "  <tbody>\n",
       "    <tr>\n",
       "      <th>sid</th>\n",
       "      <td>91948</td>\n",
       "      <td>11766</td>\n",
       "      <td>56257</td>\n",
       "    </tr>\n",
       "    <tr>\n",
       "      <th>lat</th>\n",
       "      <td>-23.13017</td>\n",
       "      <td>49.77722</td>\n",
       "      <td>30.0</td>\n",
       "    </tr>\n",
       "    <tr>\n",
       "      <th>lon</th>\n",
       "      <td>-134.96533</td>\n",
       "      <td>17.54194</td>\n",
       "      <td>100.27</td>\n",
       "    </tr>\n",
       "    <tr>\n",
       "      <th>elevation</th>\n",
       "      <td>91.0</td>\n",
       "      <td>748.1</td>\n",
       "      <td>3950.0</td>\n",
       "    </tr>\n",
       "    <tr>\n",
       "      <th>time</th>\n",
       "      <td>2020-03-15 00:00:00</td>\n",
       "      <td>2020-03-15 00:00:00</td>\n",
       "      <td>2020-03-15 00:00:00</td>\n",
       "    </tr>\n",
       "    <tr>\n",
       "      <th>t2m</th>\n",
       "      <td>300.45</td>\n",
       "      <td>269.25</td>\n",
       "      <td>276.35</td>\n",
       "    </tr>\n",
       "  </tbody>\n",
       "</table>\n",
       "</div>"
      ],
      "text/plain": [
       "                             0                    1                    2\n",
       "sid                      91948                11766                56257\n",
       "lat                  -23.13017             49.77722                 30.0\n",
       "lon                 -134.96533             17.54194               100.27\n",
       "elevation                 91.0                748.1               3950.0\n",
       "time       2020-03-15 00:00:00  2020-03-15 00:00:00  2020-03-15 00:00:00\n",
       "t2m                     300.45               269.25               276.35"
      ]
     },
     "execution_count": 14,
     "metadata": {},
     "output_type": "execute_result"
    }
   ],
   "source": [
    "df.T"
   ]
  },
  {
   "cell_type": "code",
   "execution_count": 15,
   "id": "a8c4dec0-312b-46e7-811e-ea42203abf81",
   "metadata": {
    "editable": true,
    "slideshow": {
     "slide_type": ""
    },
    "tags": []
   },
   "outputs": [],
   "source": [
    "df = pdbufr.read_bufr(\"syn_new.bufr\", reader=\"synop\", columns=[\"t2m\", \"td2m\"])"
   ]
  },
  {
   "cell_type": "code",
   "execution_count": 16,
   "id": "091d734a-7224-4fdf-85c7-b2e29260d44f",
   "metadata": {
    "editable": true,
    "slideshow": {
     "slide_type": ""
    },
    "tags": []
   },
   "outputs": [
    {
     "data": {
      "text/html": [
       "<div>\n",
       "<style scoped>\n",
       "    .dataframe tbody tr th:only-of-type {\n",
       "        vertical-align: middle;\n",
       "    }\n",
       "\n",
       "    .dataframe tbody tr th {\n",
       "        vertical-align: top;\n",
       "    }\n",
       "\n",
       "    .dataframe thead th {\n",
       "        text-align: right;\n",
       "    }\n",
       "</style>\n",
       "<table border=\"1\" class=\"dataframe\">\n",
       "  <thead>\n",
       "    <tr style=\"text-align: right;\">\n",
       "      <th></th>\n",
       "      <th>0</th>\n",
       "      <th>1</th>\n",
       "      <th>2</th>\n",
       "    </tr>\n",
       "  </thead>\n",
       "  <tbody>\n",
       "    <tr>\n",
       "      <th>sid</th>\n",
       "      <td>91948</td>\n",
       "      <td>11766</td>\n",
       "      <td>56257</td>\n",
       "    </tr>\n",
       "    <tr>\n",
       "      <th>lat</th>\n",
       "      <td>-23.13017</td>\n",
       "      <td>49.77722</td>\n",
       "      <td>30.0</td>\n",
       "    </tr>\n",
       "    <tr>\n",
       "      <th>lon</th>\n",
       "      <td>-134.96533</td>\n",
       "      <td>17.54194</td>\n",
       "      <td>100.27</td>\n",
       "    </tr>\n",
       "    <tr>\n",
       "      <th>elevation</th>\n",
       "      <td>91.0</td>\n",
       "      <td>748.1</td>\n",
       "      <td>3950.0</td>\n",
       "    </tr>\n",
       "    <tr>\n",
       "      <th>time</th>\n",
       "      <td>2020-03-15 00:00:00</td>\n",
       "      <td>2020-03-15 00:00:00</td>\n",
       "      <td>2020-03-15 00:00:00</td>\n",
       "    </tr>\n",
       "    <tr>\n",
       "      <th>t2m</th>\n",
       "      <td>300.45</td>\n",
       "      <td>269.25</td>\n",
       "      <td>276.35</td>\n",
       "    </tr>\n",
       "    <tr>\n",
       "      <th>td2m</th>\n",
       "      <td>295.15</td>\n",
       "      <td>263.55</td>\n",
       "      <td>263.05</td>\n",
       "    </tr>\n",
       "  </tbody>\n",
       "</table>\n",
       "</div>"
      ],
      "text/plain": [
       "                             0                    1                    2\n",
       "sid                      91948                11766                56257\n",
       "lat                  -23.13017             49.77722                 30.0\n",
       "lon                 -134.96533             17.54194               100.27\n",
       "elevation                 91.0                748.1               3950.0\n",
       "time       2020-03-15 00:00:00  2020-03-15 00:00:00  2020-03-15 00:00:00\n",
       "t2m                     300.45               269.25               276.35\n",
       "td2m                    295.15               263.55               263.05"
      ]
     },
     "execution_count": 16,
     "metadata": {},
     "output_type": "execute_result"
    }
   ],
   "source": [
    "df.T"
   ]
  },
  {
   "cell_type": "code",
   "execution_count": 19,
   "id": "d8d8630f-f9e9-47da-80d1-9acf5dfbce35",
   "metadata": {
    "editable": true,
    "slideshow": {
     "slide_type": ""
    },
    "tags": []
   },
   "outputs": [],
   "source": [
    "df = pdbufr.read_bufr(\"syn_new.bufr\", reader=\"synop\", \n",
    "                      columns=[\"t2m\", \"td2m\"], \n",
    "                      add_level_columns=True)"
   ]
  },
  {
   "cell_type": "code",
   "execution_count": 20,
   "id": "d0adf1e8-cfe3-4af2-80d1-bbbe38e75807",
   "metadata": {
    "editable": true,
    "slideshow": {
     "slide_type": ""
    },
    "tags": []
   },
   "outputs": [
    {
     "data": {
      "text/html": [
       "<div>\n",
       "<style scoped>\n",
       "    .dataframe tbody tr th:only-of-type {\n",
       "        vertical-align: middle;\n",
       "    }\n",
       "\n",
       "    .dataframe tbody tr th {\n",
       "        vertical-align: top;\n",
       "    }\n",
       "\n",
       "    .dataframe thead th {\n",
       "        text-align: right;\n",
       "    }\n",
       "</style>\n",
       "<table border=\"1\" class=\"dataframe\">\n",
       "  <thead>\n",
       "    <tr style=\"text-align: right;\">\n",
       "      <th></th>\n",
       "      <th>0</th>\n",
       "      <th>1</th>\n",
       "      <th>2</th>\n",
       "    </tr>\n",
       "  </thead>\n",
       "  <tbody>\n",
       "    <tr>\n",
       "      <th>sid</th>\n",
       "      <td>91948</td>\n",
       "      <td>11766</td>\n",
       "      <td>56257</td>\n",
       "    </tr>\n",
       "    <tr>\n",
       "      <th>lat</th>\n",
       "      <td>-23.13017</td>\n",
       "      <td>49.77722</td>\n",
       "      <td>30.0</td>\n",
       "    </tr>\n",
       "    <tr>\n",
       "      <th>lon</th>\n",
       "      <td>-134.96533</td>\n",
       "      <td>17.54194</td>\n",
       "      <td>100.27</td>\n",
       "    </tr>\n",
       "    <tr>\n",
       "      <th>elevation</th>\n",
       "      <td>91.0</td>\n",
       "      <td>748.1</td>\n",
       "      <td>3950.0</td>\n",
       "    </tr>\n",
       "    <tr>\n",
       "      <th>time</th>\n",
       "      <td>2020-03-15 00:00:00</td>\n",
       "      <td>2020-03-15 00:00:00</td>\n",
       "      <td>2020-03-15 00:00:00</td>\n",
       "    </tr>\n",
       "    <tr>\n",
       "      <th>t2m</th>\n",
       "      <td>300.45</td>\n",
       "      <td>269.25</td>\n",
       "      <td>276.35</td>\n",
       "    </tr>\n",
       "    <tr>\n",
       "      <th>t2m_level</th>\n",
       "      <td>1.5</td>\n",
       "      <td>2.0</td>\n",
       "      <td>1.5</td>\n",
       "    </tr>\n",
       "    <tr>\n",
       "      <th>td2m</th>\n",
       "      <td>295.15</td>\n",
       "      <td>263.55</td>\n",
       "      <td>263.05</td>\n",
       "    </tr>\n",
       "    <tr>\n",
       "      <th>td2m_level</th>\n",
       "      <td>1.5</td>\n",
       "      <td>2.0</td>\n",
       "      <td>1.5</td>\n",
       "    </tr>\n",
       "  </tbody>\n",
       "</table>\n",
       "</div>"
      ],
      "text/plain": [
       "                              0                    1                    2\n",
       "sid                       91948                11766                56257\n",
       "lat                   -23.13017             49.77722                 30.0\n",
       "lon                  -134.96533             17.54194               100.27\n",
       "elevation                  91.0                748.1               3950.0\n",
       "time        2020-03-15 00:00:00  2020-03-15 00:00:00  2020-03-15 00:00:00\n",
       "t2m                      300.45               269.25               276.35\n",
       "t2m_level                   1.5                  2.0                  1.5\n",
       "td2m                     295.15               263.55               263.05\n",
       "td2m_level                  1.5                  2.0                  1.5"
      ]
     },
     "execution_count": 20,
     "metadata": {},
     "output_type": "execute_result"
    }
   ],
   "source": [
    "df.T"
   ]
  },
  {
   "cell_type": "code",
   "execution_count": 21,
   "id": "2a591c40-2254-426d-9b95-0f068bd612ce",
   "metadata": {
    "editable": true,
    "slideshow": {
     "slide_type": ""
    },
    "tags": []
   },
   "outputs": [],
   "source": [
    "df = pdbufr.read_bufr(\"syn_new.bufr\", reader=\"synop\", \n",
    "                      columns=[\"t2m\", \"td2m\"], \n",
    "                      add_units_columns=True)"
   ]
  },
  {
   "cell_type": "code",
   "execution_count": 22,
   "id": "e3b18644-ed44-4c72-b022-14b25d21d2d1",
   "metadata": {
    "editable": true,
    "slideshow": {
     "slide_type": ""
    },
    "tags": []
   },
   "outputs": [
    {
     "data": {
      "text/html": [
       "<div>\n",
       "<style scoped>\n",
       "    .dataframe tbody tr th:only-of-type {\n",
       "        vertical-align: middle;\n",
       "    }\n",
       "\n",
       "    .dataframe tbody tr th {\n",
       "        vertical-align: top;\n",
       "    }\n",
       "\n",
       "    .dataframe thead th {\n",
       "        text-align: right;\n",
       "    }\n",
       "</style>\n",
       "<table border=\"1\" class=\"dataframe\">\n",
       "  <thead>\n",
       "    <tr style=\"text-align: right;\">\n",
       "      <th></th>\n",
       "      <th>0</th>\n",
       "      <th>1</th>\n",
       "      <th>2</th>\n",
       "    </tr>\n",
       "  </thead>\n",
       "  <tbody>\n",
       "    <tr>\n",
       "      <th>sid</th>\n",
       "      <td>91948</td>\n",
       "      <td>11766</td>\n",
       "      <td>56257</td>\n",
       "    </tr>\n",
       "    <tr>\n",
       "      <th>lat</th>\n",
       "      <td>-23.13017</td>\n",
       "      <td>49.77722</td>\n",
       "      <td>30.0</td>\n",
       "    </tr>\n",
       "    <tr>\n",
       "      <th>lat_units</th>\n",
       "      <td>deg</td>\n",
       "      <td>deg</td>\n",
       "      <td>deg</td>\n",
       "    </tr>\n",
       "    <tr>\n",
       "      <th>lon</th>\n",
       "      <td>-134.96533</td>\n",
       "      <td>17.54194</td>\n",
       "      <td>100.27</td>\n",
       "    </tr>\n",
       "    <tr>\n",
       "      <th>lon_units</th>\n",
       "      <td>deg</td>\n",
       "      <td>deg</td>\n",
       "      <td>deg</td>\n",
       "    </tr>\n",
       "    <tr>\n",
       "      <th>elevation</th>\n",
       "      <td>91.0</td>\n",
       "      <td>748.1</td>\n",
       "      <td>3950.0</td>\n",
       "    </tr>\n",
       "    <tr>\n",
       "      <th>elevation_units</th>\n",
       "      <td>m</td>\n",
       "      <td>m</td>\n",
       "      <td>m</td>\n",
       "    </tr>\n",
       "    <tr>\n",
       "      <th>time</th>\n",
       "      <td>2020-03-15 00:00:00</td>\n",
       "      <td>2020-03-15 00:00:00</td>\n",
       "      <td>2020-03-15 00:00:00</td>\n",
       "    </tr>\n",
       "    <tr>\n",
       "      <th>t2m</th>\n",
       "      <td>300.45</td>\n",
       "      <td>269.25</td>\n",
       "      <td>276.35</td>\n",
       "    </tr>\n",
       "    <tr>\n",
       "      <th>t2m_units</th>\n",
       "      <td>K</td>\n",
       "      <td>K</td>\n",
       "      <td>K</td>\n",
       "    </tr>\n",
       "    <tr>\n",
       "      <th>td2m</th>\n",
       "      <td>295.15</td>\n",
       "      <td>263.55</td>\n",
       "      <td>263.05</td>\n",
       "    </tr>\n",
       "    <tr>\n",
       "      <th>td2m_units</th>\n",
       "      <td>K</td>\n",
       "      <td>K</td>\n",
       "      <td>K</td>\n",
       "    </tr>\n",
       "  </tbody>\n",
       "</table>\n",
       "</div>"
      ],
      "text/plain": [
       "                                   0                    1                    2\n",
       "sid                            91948                11766                56257\n",
       "lat                        -23.13017             49.77722                 30.0\n",
       "lat_units                        deg                  deg                  deg\n",
       "lon                       -134.96533             17.54194               100.27\n",
       "lon_units                        deg                  deg                  deg\n",
       "elevation                       91.0                748.1               3950.0\n",
       "elevation_units                    m                    m                    m\n",
       "time             2020-03-15 00:00:00  2020-03-15 00:00:00  2020-03-15 00:00:00\n",
       "t2m                           300.45               269.25               276.35\n",
       "t2m_units                          K                    K                    K\n",
       "td2m                          295.15               263.55               263.05\n",
       "td2m_units                         K                    K                    K"
      ]
     },
     "execution_count": 22,
     "metadata": {},
     "output_type": "execute_result"
    }
   ],
   "source": [
    "df.T"
   ]
  },
  {
   "cell_type": "code",
   "execution_count": null,
   "id": "5fb3c901-904b-4a79-918f-7ac11407feb6",
   "metadata": {
    "editable": true,
    "slideshow": {
     "slide_type": ""
    },
    "tags": []
   },
   "outputs": [],
   "source": []
  }
 ],
 "metadata": {
  "kernelspec": {
   "display_name": "dev",
   "language": "python",
   "name": "dev"
  },
  "language_info": {
   "codemirror_mode": {
    "name": "ipython",
    "version": 3
   },
   "file_extension": ".py",
   "mimetype": "text/x-python",
   "name": "python",
   "nbconvert_exporter": "python",
   "pygments_lexer": "ipython3",
   "version": "3.11.12"
  }
 },
 "nbformat": 4,
 "nbformat_minor": 5
}
