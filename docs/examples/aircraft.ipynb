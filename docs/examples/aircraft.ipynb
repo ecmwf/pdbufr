{
 "cells": [
  {
   "cell_type": "code",
   "execution_count": 1,
   "metadata": {},
   "outputs": [],
   "source": [
    "!test -f aircraft_small.bufr || wget https://github.com/ecmwf/pdbufr/raw/master/tests/sample-data/aircraft_small.bufr"
   ]
  },
  {
   "cell_type": "markdown",
   "metadata": {},
   "source": [
    "# Aircraft data"
   ]
  },
  {
   "cell_type": "code",
   "execution_count": 2,
   "metadata": {},
   "outputs": [],
   "source": [
    "import datetime as dt\n",
    "import pdbufr"
   ]
  },
  {
   "cell_type": "markdown",
   "metadata": {},
   "source": [
    "The input BUFR data contains aircraft observations. Each message represents a single measurement of temperature, wind etc at a given time and (3D) location:"
   ]
  },
  {
   "cell_type": "markdown",
   "metadata": {},
   "source": [
    "**Example 1**\n",
    "\n",
    "Extract all temperature observations:"
   ]
  },
  {
   "cell_type": "code",
   "execution_count": 3,
   "metadata": {},
   "outputs": [
    {
     "data": {
      "text/html": [
       "<div>\n",
       "<style scoped>\n",
       "    .dataframe tbody tr th:only-of-type {\n",
       "        vertical-align: middle;\n",
       "    }\n",
       "\n",
       "    .dataframe tbody tr th {\n",
       "        vertical-align: top;\n",
       "    }\n",
       "\n",
       "    .dataframe thead th {\n",
       "        text-align: right;\n",
       "    }\n",
       "</style>\n",
       "<table border=\"1\" class=\"dataframe\">\n",
       "  <thead>\n",
       "    <tr style=\"text-align: right;\">\n",
       "      <th></th>\n",
       "      <th>aircraftFlightNumber</th>\n",
       "      <th>latitude</th>\n",
       "      <th>longitude</th>\n",
       "      <th>pressure</th>\n",
       "      <th>airTemperature</th>\n",
       "    </tr>\n",
       "  </thead>\n",
       "  <tbody>\n",
       "    <tr>\n",
       "      <th>0</th>\n",
       "      <td>QGOBTRRA</td>\n",
       "      <td>35.10</td>\n",
       "      <td>-89.97</td>\n",
       "      <td>96750.0</td>\n",
       "      <td>283.4</td>\n",
       "    </tr>\n",
       "    <tr>\n",
       "      <th>1</th>\n",
       "      <td>QGOBTRRA</td>\n",
       "      <td>35.07</td>\n",
       "      <td>-89.97</td>\n",
       "      <td>99350.0</td>\n",
       "      <td>285.0</td>\n",
       "    </tr>\n",
       "    <tr>\n",
       "      <th>2</th>\n",
       "      <td>UOZDOZ2S</td>\n",
       "      <td>41.45</td>\n",
       "      <td>-75.43</td>\n",
       "      <td>24990.0</td>\n",
       "      <td>216.7</td>\n",
       "    </tr>\n",
       "    <tr>\n",
       "      <th>3</th>\n",
       "      <td>UOZDOZ2S</td>\n",
       "      <td>41.52</td>\n",
       "      <td>-75.63</td>\n",
       "      <td>22730.0</td>\n",
       "      <td>217.2</td>\n",
       "    </tr>\n",
       "    <tr>\n",
       "      <th>4</th>\n",
       "      <td>UOZDOZ2S</td>\n",
       "      <td>41.59</td>\n",
       "      <td>-75.87</td>\n",
       "      <td>20650.0</td>\n",
       "      <td>222.4</td>\n",
       "    </tr>\n",
       "    <tr>\n",
       "      <th>5</th>\n",
       "      <td>UOZDOZ2S</td>\n",
       "      <td>41.67</td>\n",
       "      <td>-76.16</td>\n",
       "      <td>18750.0</td>\n",
       "      <td>222.7</td>\n",
       "    </tr>\n",
       "    <tr>\n",
       "      <th>6</th>\n",
       "      <td>VUVTEWZQ</td>\n",
       "      <td>38.26</td>\n",
       "      <td>-78.57</td>\n",
       "      <td>20750.0</td>\n",
       "      <td>225.2</td>\n",
       "    </tr>\n",
       "    <tr>\n",
       "      <th>7</th>\n",
       "      <td>4IPASOZA</td>\n",
       "      <td>19.62</td>\n",
       "      <td>73.75</td>\n",
       "      <td>21660.0</td>\n",
       "      <td>222.7</td>\n",
       "    </tr>\n",
       "    <tr>\n",
       "      <th>8</th>\n",
       "      <td>WSSASKBA</td>\n",
       "      <td>42.31</td>\n",
       "      <td>-70.70</td>\n",
       "      <td>72710.0</td>\n",
       "      <td>266.2</td>\n",
       "    </tr>\n",
       "    <tr>\n",
       "      <th>9</th>\n",
       "      <td>WSSASKBA</td>\n",
       "      <td>42.29</td>\n",
       "      <td>-70.67</td>\n",
       "      <td>69790.0</td>\n",
       "      <td>265.7</td>\n",
       "    </tr>\n",
       "  </tbody>\n",
       "</table>\n",
       "</div>"
      ],
      "text/plain": [
       "  aircraftFlightNumber  latitude  longitude  pressure  airTemperature\n",
       "0             QGOBTRRA     35.10     -89.97   96750.0           283.4\n",
       "1             QGOBTRRA     35.07     -89.97   99350.0           285.0\n",
       "2             UOZDOZ2S     41.45     -75.43   24990.0           216.7\n",
       "3             UOZDOZ2S     41.52     -75.63   22730.0           217.2\n",
       "4             UOZDOZ2S     41.59     -75.87   20650.0           222.4\n",
       "5             UOZDOZ2S     41.67     -76.16   18750.0           222.7\n",
       "6             VUVTEWZQ     38.26     -78.57   20750.0           225.2\n",
       "7             4IPASOZA     19.62      73.75   21660.0           222.7\n",
       "8             WSSASKBA     42.31     -70.70   72710.0           266.2\n",
       "9             WSSASKBA     42.29     -70.67   69790.0           265.7"
      ]
     },
     "execution_count": 3,
     "metadata": {},
     "output_type": "execute_result"
    }
   ],
   "source": [
    "df = pdbufr.read_bufr(\"aircraft_small.bufr\", \n",
    "    columns=(\"aircraftFlightNumber\", \"latitude\", \"longitude\", \"pressure\", \"airTemperature\"))\n",
    "df"
   ]
  },
  {
   "cell_type": "markdown",
   "metadata": {},
   "source": [
    "**Example 2**\n",
    "\n",
    "Getting data for a given flight only:"
   ]
  },
  {
   "cell_type": "code",
   "execution_count": 4,
   "metadata": {},
   "outputs": [
    {
     "data": {
      "text/html": [
       "<div>\n",
       "<style scoped>\n",
       "    .dataframe tbody tr th:only-of-type {\n",
       "        vertical-align: middle;\n",
       "    }\n",
       "\n",
       "    .dataframe tbody tr th {\n",
       "        vertical-align: top;\n",
       "    }\n",
       "\n",
       "    .dataframe thead th {\n",
       "        text-align: right;\n",
       "    }\n",
       "</style>\n",
       "<table border=\"1\" class=\"dataframe\">\n",
       "  <thead>\n",
       "    <tr style=\"text-align: right;\">\n",
       "      <th></th>\n",
       "      <th>aircraftFlightNumber</th>\n",
       "      <th>latitude</th>\n",
       "      <th>longitude</th>\n",
       "      <th>pressure</th>\n",
       "      <th>airTemperature</th>\n",
       "    </tr>\n",
       "  </thead>\n",
       "  <tbody>\n",
       "    <tr>\n",
       "      <th>0</th>\n",
       "      <td>UOZDOZ2S</td>\n",
       "      <td>41.45</td>\n",
       "      <td>-75.43</td>\n",
       "      <td>24990.0</td>\n",
       "      <td>216.7</td>\n",
       "    </tr>\n",
       "    <tr>\n",
       "      <th>1</th>\n",
       "      <td>UOZDOZ2S</td>\n",
       "      <td>41.52</td>\n",
       "      <td>-75.63</td>\n",
       "      <td>22730.0</td>\n",
       "      <td>217.2</td>\n",
       "    </tr>\n",
       "    <tr>\n",
       "      <th>2</th>\n",
       "      <td>UOZDOZ2S</td>\n",
       "      <td>41.59</td>\n",
       "      <td>-75.87</td>\n",
       "      <td>20650.0</td>\n",
       "      <td>222.4</td>\n",
       "    </tr>\n",
       "    <tr>\n",
       "      <th>3</th>\n",
       "      <td>UOZDOZ2S</td>\n",
       "      <td>41.67</td>\n",
       "      <td>-76.16</td>\n",
       "      <td>18750.0</td>\n",
       "      <td>222.7</td>\n",
       "    </tr>\n",
       "  </tbody>\n",
       "</table>\n",
       "</div>"
      ],
      "text/plain": [
       "  aircraftFlightNumber  latitude  longitude  pressure  airTemperature\n",
       "0             UOZDOZ2S     41.45     -75.43   24990.0           216.7\n",
       "1             UOZDOZ2S     41.52     -75.63   22730.0           217.2\n",
       "2             UOZDOZ2S     41.59     -75.87   20650.0           222.4\n",
       "3             UOZDOZ2S     41.67     -76.16   18750.0           222.7"
      ]
     },
     "execution_count": 4,
     "metadata": {},
     "output_type": "execute_result"
    }
   ],
   "source": [
    "df = pdbufr.read_bufr(\"aircraft_small.bufr\",\n",
    "    columns=(\"aircraftFlightNumber\", \"latitude\", \"longitude\", \"pressure\", \"airTemperature\"),\n",
    "    filters={\"aircraftFlightNumber\": \"UOZDOZ2S\"})\n",
    "df"
   ]
  },
  {
   "cell_type": "markdown",
   "metadata": {},
   "source": [
    "**Example 3**\n",
    "\n",
    "Getting data for a given time interval only:"
   ]
  },
  {
   "cell_type": "code",
   "execution_count": 5,
   "metadata": {},
   "outputs": [
    {
     "data": {
      "text/html": [
       "<div>\n",
       "<style scoped>\n",
       "    .dataframe tbody tr th:only-of-type {\n",
       "        vertical-align: middle;\n",
       "    }\n",
       "\n",
       "    .dataframe tbody tr th {\n",
       "        vertical-align: top;\n",
       "    }\n",
       "\n",
       "    .dataframe thead th {\n",
       "        text-align: right;\n",
       "    }\n",
       "</style>\n",
       "<table border=\"1\" class=\"dataframe\">\n",
       "  <thead>\n",
       "    <tr style=\"text-align: right;\">\n",
       "      <th></th>\n",
       "      <th>aircraftFlightNumber</th>\n",
       "      <th>latitude</th>\n",
       "      <th>longitude</th>\n",
       "      <th>pressure</th>\n",
       "      <th>airTemperature</th>\n",
       "      <th>data_datetime</th>\n",
       "    </tr>\n",
       "  </thead>\n",
       "  <tbody>\n",
       "    <tr>\n",
       "      <th>0</th>\n",
       "      <td>QGOBTRRA</td>\n",
       "      <td>35.10</td>\n",
       "      <td>-89.97</td>\n",
       "      <td>96750.0</td>\n",
       "      <td>283.4</td>\n",
       "      <td>2009-01-23 13:00:00</td>\n",
       "    </tr>\n",
       "    <tr>\n",
       "      <th>1</th>\n",
       "      <td>QGOBTRRA</td>\n",
       "      <td>35.07</td>\n",
       "      <td>-89.97</td>\n",
       "      <td>99350.0</td>\n",
       "      <td>285.0</td>\n",
       "      <td>2009-01-23 13:01:00</td>\n",
       "    </tr>\n",
       "    <tr>\n",
       "      <th>2</th>\n",
       "      <td>UOZDOZ2S</td>\n",
       "      <td>41.59</td>\n",
       "      <td>-75.87</td>\n",
       "      <td>20650.0</td>\n",
       "      <td>222.4</td>\n",
       "      <td>2009-01-23 13:00:00</td>\n",
       "    </tr>\n",
       "    <tr>\n",
       "      <th>3</th>\n",
       "      <td>WSSASKBA</td>\n",
       "      <td>42.31</td>\n",
       "      <td>-70.70</td>\n",
       "      <td>72710.0</td>\n",
       "      <td>266.2</td>\n",
       "      <td>2009-01-23 13:00:00</td>\n",
       "    </tr>\n",
       "    <tr>\n",
       "      <th>4</th>\n",
       "      <td>WSSASKBA</td>\n",
       "      <td>42.29</td>\n",
       "      <td>-70.67</td>\n",
       "      <td>69790.0</td>\n",
       "      <td>265.7</td>\n",
       "      <td>2009-01-23 13:00:00</td>\n",
       "    </tr>\n",
       "  </tbody>\n",
       "</table>\n",
       "</div>"
      ],
      "text/plain": [
       "  aircraftFlightNumber  latitude  longitude  pressure  airTemperature  \\\n",
       "0             QGOBTRRA     35.10     -89.97   96750.0           283.4   \n",
       "1             QGOBTRRA     35.07     -89.97   99350.0           285.0   \n",
       "2             UOZDOZ2S     41.59     -75.87   20650.0           222.4   \n",
       "3             WSSASKBA     42.31     -70.70   72710.0           266.2   \n",
       "4             WSSASKBA     42.29     -70.67   69790.0           265.7   \n",
       "\n",
       "        data_datetime  \n",
       "0 2009-01-23 13:00:00  \n",
       "1 2009-01-23 13:01:00  \n",
       "2 2009-01-23 13:00:00  \n",
       "3 2009-01-23 13:00:00  \n",
       "4 2009-01-23 13:00:00  "
      ]
     },
     "execution_count": 5,
     "metadata": {},
     "output_type": "execute_result"
    }
   ],
   "source": [
    "df = pdbufr.read_bufr(\"aircraft_small.bufr\", \n",
    "    columns=(\"data_datetime\", \"aircraftFlightNumber\", \n",
    "             \"latitude\", \"longitude\", \"pressure\", \"airTemperature\"),\n",
    "    filters={\"data_datetime\": \n",
    "               slice(dt.datetime(2009,1,23,13,0), dt.datetime(2009,1,23,13,1))})\n",
    "df"
   ]
  }
 ],
 "metadata": {
  "kernelspec": {
   "display_name": "Python 3.8.14 ('mpy38')",
   "language": "python",
   "name": "python3"
  },
  "language_info": {
   "codemirror_mode": {
    "name": "ipython",
    "version": 3
   },
   "file_extension": ".py",
   "mimetype": "text/x-python",
   "name": "python",
   "nbconvert_exporter": "python",
   "pygments_lexer": "ipython3",
   "version": "3.8.16"
  },
  "orig_nbformat": 4,
  "vscode": {
   "interpreter": {
    "hash": "22dc05efe0944894879e71a134ce5db002aedecbcd8b98acee6e3c2217e44519"
   }
  }
 },
 "nbformat": 4,
 "nbformat_minor": 2
}
