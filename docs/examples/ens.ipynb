{
 "cells": [
  {
   "cell_type": "code",
   "execution_count": 1,
   "metadata": {},
   "outputs": [],
   "source": [
    "!test -f ens_multi_subset_uncompressed.bufr || wget https://github.com/ecmwf/pdbufr/raw/master/tests/sample-data/ens_multi_subset_uncompressed.bufr"
   ]
  },
  {
   "cell_type": "markdown",
   "metadata": {},
   "source": [
    "# ENS point foreacast"
   ]
  },
  {
   "cell_type": "code",
   "execution_count": 2,
   "metadata": {},
   "outputs": [],
   "source": [
    "import pdbufr"
   ]
  },
  {
   "cell_type": "markdown",
   "metadata": {},
   "source": [
    "The input BUFR data contains ensemble forecast for a given location. There is one message in the file containing uncompressed subsets: one per ensemble member.  "
   ]
  },
  {
   "cell_type": "markdown",
   "metadata": {},
   "source": [
    "**Example 1**\n",
    "\n",
    "Extracting forecast data for the control forecast member:"
   ]
  },
  {
   "cell_type": "code",
   "execution_count": 4,
   "metadata": {},
   "outputs": [],
   "source": [
    "df = pdbufr.read_bufr(\"ens_multi_subset_uncompressed.bufr\", \n",
    "    columns=(\"ensembleMemberNumber\", \"latitude\", \"longitude\", \"timePeriod\", \n",
    "             \"airTemperatureAt2M\"),\n",
    "    filters={\"ensembleMemberNumber\": 0})\n",
    "df"
   ]
  }
 ],
 "metadata": {
  "kernelspec": {
   "display_name": "Python 3.8.14 ('mpy38')",
   "language": "python",
   "name": "python3"
  },
  "language_info": {
   "codemirror_mode": {
    "name": "ipython",
    "version": 3
   },
   "file_extension": ".py",
   "mimetype": "text/x-python",
   "name": "python",
   "nbconvert_exporter": "python",
   "pygments_lexer": "ipython3",
   "version": "3.8.14"
  },
  "orig_nbformat": 4,
  "vscode": {
   "interpreter": {
    "hash": "22dc05efe0944894879e71a134ce5db002aedecbcd8b98acee6e3c2217e44519"
   }
  }
 },
 "nbformat": 4,
 "nbformat_minor": 2
}
