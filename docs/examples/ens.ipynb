{
 "cells": [
  {
   "cell_type": "code",
   "execution_count": 1,
   "metadata": {},
   "outputs": [],
   "source": [
    "!test -f ens_multi_subset_uncompressed.bufr || wget https://github.com/ecmwf/pdbufr/raw/master/tests/sample-data/ens_multi_subset_uncompressed.bufr"
   ]
  },
  {
   "cell_type": "markdown",
   "metadata": {},
   "source": [
    "# ENS point foreacast"
   ]
  },
  {
   "cell_type": "code",
   "execution_count": 2,
   "metadata": {},
   "outputs": [],
   "source": [
    "import pdbufr"
   ]
  },
  {
   "cell_type": "markdown",
   "metadata": {},
   "source": [
    "The input BUFR data contains ensemble forecast data for a given location. There is only one message in the file having 51 uncompressed subsets (one subset per ensemble member).  "
   ]
  },
  {
   "cell_type": "markdown",
   "metadata": {},
   "source": [
    "**Example 1**\n",
    "\n",
    "Extracting forecast data for the control forecast member:"
   ]
  },
  {
   "cell_type": "code",
   "execution_count": 3,
   "metadata": {},
   "outputs": [
    {
     "data": {
      "text/html": [
       "<div>\n",
       "<style scoped>\n",
       "    .dataframe tbody tr th:only-of-type {\n",
       "        vertical-align: middle;\n",
       "    }\n",
       "\n",
       "    .dataframe tbody tr th {\n",
       "        vertical-align: top;\n",
       "    }\n",
       "\n",
       "    .dataframe thead th {\n",
       "        text-align: right;\n",
       "    }\n",
       "</style>\n",
       "<table border=\"1\" class=\"dataframe\">\n",
       "  <thead>\n",
       "    <tr style=\"text-align: right;\">\n",
       "      <th></th>\n",
       "      <th>ensembleMemberNumber</th>\n",
       "      <th>latitude</th>\n",
       "      <th>longitude</th>\n",
       "      <th>timePeriod</th>\n",
       "      <th>airTemperatureAt2M</th>\n",
       "    </tr>\n",
       "  </thead>\n",
       "  <tbody>\n",
       "    <tr>\n",
       "      <th>0</th>\n",
       "      <td>0</td>\n",
       "      <td>51.52</td>\n",
       "      <td>0.97</td>\n",
       "      <td>0</td>\n",
       "      <td>292.7</td>\n",
       "    </tr>\n",
       "    <tr>\n",
       "      <th>1</th>\n",
       "      <td>0</td>\n",
       "      <td>51.52</td>\n",
       "      <td>0.97</td>\n",
       "      <td>6</td>\n",
       "      <td>291.6</td>\n",
       "    </tr>\n",
       "    <tr>\n",
       "      <th>2</th>\n",
       "      <td>0</td>\n",
       "      <td>51.52</td>\n",
       "      <td>0.97</td>\n",
       "      <td>12</td>\n",
       "      <td>291.0</td>\n",
       "    </tr>\n",
       "    <tr>\n",
       "      <th>3</th>\n",
       "      <td>0</td>\n",
       "      <td>51.52</td>\n",
       "      <td>0.97</td>\n",
       "      <td>18</td>\n",
       "      <td>290.0</td>\n",
       "    </tr>\n",
       "    <tr>\n",
       "      <th>4</th>\n",
       "      <td>0</td>\n",
       "      <td>51.52</td>\n",
       "      <td>0.97</td>\n",
       "      <td>24</td>\n",
       "      <td>291.2</td>\n",
       "    </tr>\n",
       "    <tr>\n",
       "      <th>...</th>\n",
       "      <td>...</td>\n",
       "      <td>...</td>\n",
       "      <td>...</td>\n",
       "      <td>...</td>\n",
       "      <td>...</td>\n",
       "    </tr>\n",
       "    <tr>\n",
       "      <th>56</th>\n",
       "      <td>0</td>\n",
       "      <td>51.52</td>\n",
       "      <td>0.97</td>\n",
       "      <td>336</td>\n",
       "      <td>292.0</td>\n",
       "    </tr>\n",
       "    <tr>\n",
       "      <th>57</th>\n",
       "      <td>0</td>\n",
       "      <td>51.52</td>\n",
       "      <td>0.97</td>\n",
       "      <td>342</td>\n",
       "      <td>292.2</td>\n",
       "    </tr>\n",
       "    <tr>\n",
       "      <th>58</th>\n",
       "      <td>0</td>\n",
       "      <td>51.52</td>\n",
       "      <td>0.97</td>\n",
       "      <td>348</td>\n",
       "      <td>291.4</td>\n",
       "    </tr>\n",
       "    <tr>\n",
       "      <th>59</th>\n",
       "      <td>0</td>\n",
       "      <td>51.52</td>\n",
       "      <td>0.97</td>\n",
       "      <td>354</td>\n",
       "      <td>290.1</td>\n",
       "    </tr>\n",
       "    <tr>\n",
       "      <th>60</th>\n",
       "      <td>0</td>\n",
       "      <td>51.52</td>\n",
       "      <td>0.97</td>\n",
       "      <td>360</td>\n",
       "      <td>292.4</td>\n",
       "    </tr>\n",
       "  </tbody>\n",
       "</table>\n",
       "<p>61 rows × 5 columns</p>\n",
       "</div>"
      ],
      "text/plain": [
       "    ensembleMemberNumber  latitude  longitude  timePeriod  airTemperatureAt2M\n",
       "0                      0     51.52       0.97           0               292.7\n",
       "1                      0     51.52       0.97           6               291.6\n",
       "2                      0     51.52       0.97          12               291.0\n",
       "3                      0     51.52       0.97          18               290.0\n",
       "4                      0     51.52       0.97          24               291.2\n",
       "..                   ...       ...        ...         ...                 ...\n",
       "56                     0     51.52       0.97         336               292.0\n",
       "57                     0     51.52       0.97         342               292.2\n",
       "58                     0     51.52       0.97         348               291.4\n",
       "59                     0     51.52       0.97         354               290.1\n",
       "60                     0     51.52       0.97         360               292.4\n",
       "\n",
       "[61 rows x 5 columns]"
      ]
     },
     "execution_count": 3,
     "metadata": {},
     "output_type": "execute_result"
    }
   ],
   "source": [
    "df = pdbufr.read_bufr(\"ens_multi_subset_uncompressed.bufr\", \n",
    "    columns=(\"ensembleMemberNumber\", \"latitude\", \"longitude\", \"timePeriod\", \n",
    "             \"airTemperatureAt2M\"),\n",
    "    filters={\"ensembleMemberNumber\": 0})\n",
    "df"
   ]
  }
 ],
 "metadata": {
  "kernelspec": {
   "display_name": "Python 3.8.14 ('mpy38')",
   "language": "python",
   "name": "python3"
  },
  "language_info": {
   "codemirror_mode": {
    "name": "ipython",
    "version": 3
   },
   "file_extension": ".py",
   "mimetype": "text/x-python",
   "name": "python",
   "nbconvert_exporter": "python",
   "pygments_lexer": "ipython3",
   "version": "3.8.14"
  },
  "orig_nbformat": 4,
  "vscode": {
   "interpreter": {
    "hash": "22dc05efe0944894879e71a134ce5db002aedecbcd8b98acee6e3c2217e44519"
   }
  }
 },
 "nbformat": 4,
 "nbformat_minor": 2
}
