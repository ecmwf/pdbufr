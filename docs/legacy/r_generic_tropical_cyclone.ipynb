{
 "cells": [
  {
   "cell_type": "code",
   "execution_count": 1,
   "metadata": {},
   "outputs": [],
   "source": [
    "!test -f tropical_cyclone.bufr || wget https://github.com/ecmwf/pdbufr/raw/master/tests/sample-data/tropical_cyclone.bufr"
   ]
  },
  {
   "cell_type": "markdown",
   "metadata": {},
   "source": [
    "# Tropical cyclone track"
   ]
  },
  {
   "cell_type": "code",
   "execution_count": 2,
   "metadata": {},
   "outputs": [],
   "source": [
    "import pdbufr"
   ]
  },
  {
   "cell_type": "markdown",
   "metadata": {},
   "source": [
    "The input BUFR data contains ensemble forecast of tropical cyclone tracks each message representing a storm. The messages consist of compressed subsets (one subset per ensemble member)."
   ]
  },
  {
   "cell_type": "markdown",
   "metadata": {},
   "source": [
    "**Example 1**\n",
    "\n",
    "Extracting the list of storm identifiers:"
   ]
  },
  {
   "cell_type": "code",
   "execution_count": 3,
   "metadata": {},
   "outputs": [
    {
     "data": {
      "text/plain": [
       "array(['27W', '70E', '71W'], dtype=object)"
      ]
     },
     "execution_count": 3,
     "metadata": {},
     "output_type": "execute_result"
    }
   ],
   "source": [
    "df = pdbufr.read_bufr(\"tropical_cyclone.bufr\", \n",
    "    columns=(\"stormIdentifier\"))\n",
    "df[\"stormIdentifier\"].unique()"
   ]
  },
  {
   "cell_type": "markdown",
   "metadata": {},
   "source": [
    "**Example 2**\n",
    "\n",
    "Getting a track with pressure for a given storm and ensemble member: "
   ]
  },
  {
   "cell_type": "code",
   "execution_count": 4,
   "metadata": {},
   "outputs": [
    {
     "data": {
      "text/html": [
       "<div>\n",
       "<style scoped>\n",
       "    .dataframe tbody tr th:only-of-type {\n",
       "        vertical-align: middle;\n",
       "    }\n",
       "\n",
       "    .dataframe tbody tr th {\n",
       "        vertical-align: top;\n",
       "    }\n",
       "\n",
       "    .dataframe thead th {\n",
       "        text-align: right;\n",
       "    }\n",
       "</style>\n",
       "<table border=\"1\" class=\"dataframe\">\n",
       "  <thead>\n",
       "    <tr style=\"text-align: right;\">\n",
       "      <th></th>\n",
       "      <th>stormIdentifier</th>\n",
       "      <th>ensembleMemberNumber</th>\n",
       "      <th>latitude</th>\n",
       "      <th>longitude</th>\n",
       "      <th>pressureReducedToMeanSeaLevel</th>\n",
       "    </tr>\n",
       "  </thead>\n",
       "  <tbody>\n",
       "    <tr>\n",
       "      <th>0</th>\n",
       "      <td>70E</td>\n",
       "      <td>1</td>\n",
       "      <td>11.3</td>\n",
       "      <td>-126.0</td>\n",
       "      <td>100400.0</td>\n",
       "    </tr>\n",
       "    <tr>\n",
       "      <th>1</th>\n",
       "      <td>70E</td>\n",
       "      <td>1</td>\n",
       "      <td>11.6</td>\n",
       "      <td>-125.2</td>\n",
       "      <td>100400.0</td>\n",
       "    </tr>\n",
       "    <tr>\n",
       "      <th>2</th>\n",
       "      <td>70E</td>\n",
       "      <td>1</td>\n",
       "      <td>11.3</td>\n",
       "      <td>-125.8</td>\n",
       "      <td>100300.0</td>\n",
       "    </tr>\n",
       "    <tr>\n",
       "      <th>3</th>\n",
       "      <td>70E</td>\n",
       "      <td>1</td>\n",
       "      <td>NaN</td>\n",
       "      <td>NaN</td>\n",
       "      <td>NaN</td>\n",
       "    </tr>\n",
       "    <tr>\n",
       "      <th>4</th>\n",
       "      <td>70E</td>\n",
       "      <td>1</td>\n",
       "      <td>10.8</td>\n",
       "      <td>-126.0</td>\n",
       "      <td>100200.0</td>\n",
       "    </tr>\n",
       "  </tbody>\n",
       "</table>\n",
       "</div>"
      ],
      "text/plain": [
       "  stormIdentifier  ensembleMemberNumber  latitude  longitude  \\\n",
       "0             70E                     1      11.3     -126.0   \n",
       "1             70E                     1      11.6     -125.2   \n",
       "2             70E                     1      11.3     -125.8   \n",
       "3             70E                     1       NaN        NaN   \n",
       "4             70E                     1      10.8     -126.0   \n",
       "\n",
       "   pressureReducedToMeanSeaLevel  \n",
       "0                       100400.0  \n",
       "1                       100400.0  \n",
       "2                       100300.0  \n",
       "3                            NaN  \n",
       "4                       100200.0  "
      ]
     },
     "execution_count": 4,
     "metadata": {},
     "output_type": "execute_result"
    }
   ],
   "source": [
    "df = pdbufr.read_bufr(\"tropical_cyclone.bufr\", \n",
    "    columns=(\"stormIdentifier\", \"ensembleMemberNumber\", \"latitude\", \"longitude\",\n",
    "             \"pressureReducedToMeanSeaLevel\"),\n",
    "    filters={\"stormIdentifier\": \"70E\", \"ensembleMemberNumber\": 1})\n",
    "df.head()"
   ]
  }
 ],
 "metadata": {
  "kernelspec": {
   "display_name": "Python 3.8.14 ('mpy38')",
   "language": "python",
   "name": "python3"
  },
  "language_info": {
   "codemirror_mode": {
    "name": "ipython",
    "version": 3
   },
   "file_extension": ".py",
   "mimetype": "text/x-python",
   "name": "python",
   "nbconvert_exporter": "python",
   "pygments_lexer": "ipython3",
   "version": "3.8.14"
  },
  "orig_nbformat": 4,
  "vscode": {
   "interpreter": {
    "hash": "22dc05efe0944894879e71a134ce5db002aedecbcd8b98acee6e3c2217e44519"
   }
  }
 },
 "nbformat": 4,
 "nbformat_minor": 2
}
