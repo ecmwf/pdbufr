{
 "cells": [
  {
   "cell_type": "code",
   "execution_count": 1,
   "metadata": {},
   "outputs": [],
   "source": [
    "!test -f syn_new.bufr || wget https://github.com/ecmwf/pdbufr/raw/master/tests/sample-data/syn_new.bufr"
   ]
  },
  {
   "cell_type": "markdown",
   "metadata": {},
   "source": [
    "# Synop data"
   ]
  },
  {
   "cell_type": "code",
   "execution_count": 2,
   "metadata": {},
   "outputs": [],
   "source": [
    "import pdbufr"
   ]
  },
  {
   "cell_type": "markdown",
   "metadata": {},
   "source": [
    "The input BUFR data contains three different types of SYNOP observations."
   ]
  },
  {
   "cell_type": "markdown",
   "metadata": {},
   "source": [
    "**Example 1**\n",
    "\n",
    "Extract all \"2m\" temperature and dewpoint observations together with the height where the measurement took place:"
   ]
  },
  {
   "cell_type": "code",
   "execution_count": 3,
   "metadata": {},
   "outputs": [
    {
     "data": {
      "text/html": [
       "<div>\n",
       "<style scoped>\n",
       "    .dataframe tbody tr th:only-of-type {\n",
       "        vertical-align: middle;\n",
       "    }\n",
       "\n",
       "    .dataframe tbody tr th {\n",
       "        vertical-align: top;\n",
       "    }\n",
       "\n",
       "    .dataframe thead th {\n",
       "        text-align: right;\n",
       "    }\n",
       "</style>\n",
       "<table border=\"1\" class=\"dataframe\">\n",
       "  <thead>\n",
       "    <tr style=\"text-align: right;\">\n",
       "      <th></th>\n",
       "      <th>latitude</th>\n",
       "      <th>longitude</th>\n",
       "      <th>heightOfSensorAboveLocalGroundOrDeckOfMarinePlatform</th>\n",
       "      <th>airTemperature</th>\n",
       "      <th>dewpointTemperature</th>\n",
       "      <th>data_datetime</th>\n",
       "      <th>WMO_station_id</th>\n",
       "    </tr>\n",
       "  </thead>\n",
       "  <tbody>\n",
       "    <tr>\n",
       "      <th>0</th>\n",
       "      <td>-23.13017</td>\n",
       "      <td>-134.96533</td>\n",
       "      <td>1.5</td>\n",
       "      <td>300.45</td>\n",
       "      <td>295.15</td>\n",
       "      <td>2020-03-15</td>\n",
       "      <td>91948</td>\n",
       "    </tr>\n",
       "    <tr>\n",
       "      <th>1</th>\n",
       "      <td>49.77722</td>\n",
       "      <td>17.54194</td>\n",
       "      <td>2.0</td>\n",
       "      <td>269.25</td>\n",
       "      <td>263.55</td>\n",
       "      <td>2020-03-15</td>\n",
       "      <td>11766</td>\n",
       "    </tr>\n",
       "    <tr>\n",
       "      <th>2</th>\n",
       "      <td>30.00000</td>\n",
       "      <td>100.27000</td>\n",
       "      <td>1.5</td>\n",
       "      <td>276.35</td>\n",
       "      <td>263.05</td>\n",
       "      <td>2020-03-15</td>\n",
       "      <td>56257</td>\n",
       "    </tr>\n",
       "  </tbody>\n",
       "</table>\n",
       "</div>"
      ],
      "text/plain": [
       "   latitude  longitude  heightOfSensorAboveLocalGroundOrDeckOfMarinePlatform  \\\n",
       "0 -23.13017 -134.96533                                                1.5      \n",
       "1  49.77722   17.54194                                                2.0      \n",
       "2  30.00000  100.27000                                                1.5      \n",
       "\n",
       "   airTemperature  dewpointTemperature data_datetime  WMO_station_id  \n",
       "0          300.45               295.15    2020-03-15           91948  \n",
       "1          269.25               263.55    2020-03-15           11766  \n",
       "2          276.35               263.05    2020-03-15           56257  "
      ]
     },
     "execution_count": 3,
     "metadata": {},
     "output_type": "execute_result"
    }
   ],
   "source": [
    "df = pdbufr.read_bufr(\"syn_new.bufr\", \n",
    "    columns=(\"WMO_station_id\", \"data_datetime\", \"latitude\", \"longitude\", \"heightOfSensorAboveLocalGroundOrDeckOfMarinePlatform\", \"airTemperature\", \"dewpointTemperature\"))\n",
    "df"
   ]
  },
  {
   "cell_type": "markdown",
   "metadata": {},
   "source": [
    "**Example 2**\n",
    "\n",
    "Getting low level cloud data from the message with a given dataSubCategory:"
   ]
  },
  {
   "cell_type": "code",
   "execution_count": 4,
   "metadata": {},
   "outputs": [
    {
     "data": {
      "text/html": [
       "<div>\n",
       "<style scoped>\n",
       "    .dataframe tbody tr th:only-of-type {\n",
       "        vertical-align: middle;\n",
       "    }\n",
       "\n",
       "    .dataframe tbody tr th {\n",
       "        vertical-align: top;\n",
       "    }\n",
       "\n",
       "    .dataframe thead th {\n",
       "        text-align: right;\n",
       "    }\n",
       "</style>\n",
       "<table border=\"1\" class=\"dataframe\">\n",
       "  <thead>\n",
       "    <tr style=\"text-align: right;\">\n",
       "      <th></th>\n",
       "      <th>cloudAmount</th>\n",
       "      <th>heightOfBaseOfCloud</th>\n",
       "      <th>cloudType</th>\n",
       "      <th>data_datetime</th>\n",
       "      <th>WMO_station_id</th>\n",
       "    </tr>\n",
       "  </thead>\n",
       "  <tbody>\n",
       "    <tr>\n",
       "      <th>0</th>\n",
       "      <td>2</td>\n",
       "      <td>600.0</td>\n",
       "      <td>32</td>\n",
       "      <td>2020-03-15</td>\n",
       "      <td>91948</td>\n",
       "    </tr>\n",
       "    <tr>\n",
       "      <th>1</th>\n",
       "      <td>2</td>\n",
       "      <td>600.0</td>\n",
       "      <td>20</td>\n",
       "      <td>2020-03-15</td>\n",
       "      <td>91948</td>\n",
       "    </tr>\n",
       "    <tr>\n",
       "      <th>2</th>\n",
       "      <td>2</td>\n",
       "      <td>600.0</td>\n",
       "      <td>10</td>\n",
       "      <td>2020-03-15</td>\n",
       "      <td>91948</td>\n",
       "    </tr>\n",
       "  </tbody>\n",
       "</table>\n",
       "</div>"
      ],
      "text/plain": [
       "   cloudAmount  heightOfBaseOfCloud  cloudType data_datetime  WMO_station_id\n",
       "0            2                600.0         32    2020-03-15           91948\n",
       "1            2                600.0         20    2020-03-15           91948\n",
       "2            2                600.0         10    2020-03-15           91948"
      ]
     },
     "execution_count": 4,
     "metadata": {},
     "output_type": "execute_result"
    }
   ],
   "source": [
    "df = pdbufr.read_bufr(\"syn_new.bufr\", \n",
    "    columns=(\"data_datetime\", \"WMO_station_id\", \"cloudAmount\", \"heightOfBaseOfCloud\", \"cloudType\"),\n",
    "    filters={\"dataSubCategory\": 172, \"verticalSignificanceSurfaceObservations\": 7})\n",
    "df"
   ]
  }
 ],
 "metadata": {
  "kernelspec": {
   "display_name": "Python 3.8.14 ('mpy38')",
   "language": "python",
   "name": "python3"
  },
  "language_info": {
   "codemirror_mode": {
    "name": "ipython",
    "version": 3
   },
   "file_extension": ".py",
   "mimetype": "text/x-python",
   "name": "python",
   "nbconvert_exporter": "python",
   "pygments_lexer": "ipython3",
   "version": "3.8.14"
  },
  "orig_nbformat": 4,
  "vscode": {
   "interpreter": {
    "hash": "22dc05efe0944894879e71a134ce5db002aedecbcd8b98acee6e3c2217e44519"
   }
  }
 },
 "nbformat": 4,
 "nbformat_minor": 2
}
